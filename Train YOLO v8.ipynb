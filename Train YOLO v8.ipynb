{
 "cells": [
  {
   "cell_type": "code",
   "execution_count": 1,
   "id": "1345ad69",
   "metadata": {},
   "outputs": [],
   "source": [
    "import pandas as pd\n",
    "from ultralytics import YOLO\n",
    "from os import listdir\n",
    "from os.path import isfile, join\n",
    "from PIL import Image\n",
    "import matplotlib.pyplot as plt\n",
    "import torch"
   ]
  },
  {
   "cell_type": "markdown",
   "id": "a2ca7ec7",
   "metadata": {},
   "source": [
    "## Обучение модели "
   ]
  },
  {
   "cell_type": "code",
   "execution_count": 2,
   "id": "88516f28",
   "metadata": {
    "scrolled": false
   },
   "outputs": [
    {
     "name": "stdout",
     "output_type": "stream",
     "text": [
      "New https://pypi.org/project/ultralytics/8.2.27 available 😃 Update with 'pip install -U ultralytics'\n",
      "Ultralytics YOLOv8.1.27 🚀 Python-3.11.5 torch-2.1.2+cu118 CUDA:0 (NVIDIA GeForce RTX 3080 Ti Laptop GPU, 16384MiB)\n",
      "\u001b[34m\u001b[1mengine\\trainer: \u001b[0mtask=detect, mode=train, model=yolov8s.yaml, data=train_file.yaml, epochs=15, time=None, patience=100, batch=16, imgsz=640, save=True, save_period=-1, cache=False, device=None, workers=8, project=None, name=train, exist_ok=False, pretrained=True, optimizer=auto, verbose=True, seed=0, deterministic=True, single_cls=False, rect=False, cos_lr=False, close_mosaic=10, resume=False, amp=True, fraction=1.0, profile=False, freeze=None, multi_scale=False, overlap_mask=True, mask_ratio=4, dropout=0.0, val=True, split=val, save_json=False, save_hybrid=False, conf=None, iou=0.7, max_det=300, half=False, dnn=False, plots=True, source=None, vid_stride=1, stream_buffer=False, visualize=False, augment=False, agnostic_nms=False, classes=None, retina_masks=False, embed=None, show=False, save_frames=False, save_txt=False, save_conf=False, save_crop=False, show_labels=True, show_conf=True, show_boxes=True, line_width=None, format=torchscript, keras=False, optimize=False, int8=False, dynamic=False, simplify=False, opset=None, workspace=4, nms=False, lr0=0.01, lrf=0.01, momentum=0.937, weight_decay=0.0005, warmup_epochs=3.0, warmup_momentum=0.8, warmup_bias_lr=0.1, box=7.5, cls=0.5, dfl=1.5, pose=12.0, kobj=1.0, label_smoothing=0.0, nbs=64, hsv_h=0.015, hsv_s=0.7, hsv_v=0.4, degrees=15, translate=0.12, scale=0.5, shear=15, perspective=5e-05, flipud=0.12, fliplr=0.12, mosaic=0.85, mixup=0.12, copy_paste=0.12, auto_augment=randaugment, erasing=0.4, crop_fraction=1.0, cfg=None, tracker=botsort.yaml, save_dir=runs\\detect\\train\n",
      "Overriding model.yaml nc=80 with nc=5\n",
      "\n",
      "                   from  n    params  module                                       arguments                     \n",
      "  0                  -1  1       928  ultralytics.nn.modules.conv.Conv             [3, 32, 3, 2]                 \n",
      "  1                  -1  1     18560  ultralytics.nn.modules.conv.Conv             [32, 64, 3, 2]                \n",
      "  2                  -1  1     29056  ultralytics.nn.modules.block.C2f             [64, 64, 1, True]             \n",
      "  3                  -1  1     73984  ultralytics.nn.modules.conv.Conv             [64, 128, 3, 2]               \n",
      "  4                  -1  2    197632  ultralytics.nn.modules.block.C2f             [128, 128, 2, True]           \n",
      "  5                  -1  1    295424  ultralytics.nn.modules.conv.Conv             [128, 256, 3, 2]              \n",
      "  6                  -1  2    788480  ultralytics.nn.modules.block.C2f             [256, 256, 2, True]           \n",
      "  7                  -1  1   1180672  ultralytics.nn.modules.conv.Conv             [256, 512, 3, 2]              \n",
      "  8                  -1  1   1838080  ultralytics.nn.modules.block.C2f             [512, 512, 1, True]           \n",
      "  9                  -1  1    656896  ultralytics.nn.modules.block.SPPF            [512, 512, 5]                 \n",
      " 10                  -1  1         0  torch.nn.modules.upsampling.Upsample         [None, 2, 'nearest']          \n",
      " 11             [-1, 6]  1         0  ultralytics.nn.modules.conv.Concat           [1]                           \n",
      " 12                  -1  1    591360  ultralytics.nn.modules.block.C2f             [768, 256, 1]                 \n",
      " 13                  -1  1         0  torch.nn.modules.upsampling.Upsample         [None, 2, 'nearest']          \n",
      " 14             [-1, 4]  1         0  ultralytics.nn.modules.conv.Concat           [1]                           \n",
      " 15                  -1  1    148224  ultralytics.nn.modules.block.C2f             [384, 128, 1]                 \n",
      " 16                  -1  1    147712  ultralytics.nn.modules.conv.Conv             [128, 128, 3, 2]              \n",
      " 17            [-1, 12]  1         0  ultralytics.nn.modules.conv.Concat           [1]                           \n",
      " 18                  -1  1    493056  ultralytics.nn.modules.block.C2f             [384, 256, 1]                 \n",
      " 19                  -1  1    590336  ultralytics.nn.modules.conv.Conv             [256, 256, 3, 2]              \n",
      " 20             [-1, 9]  1         0  ultralytics.nn.modules.conv.Concat           [1]                           \n",
      " 21                  -1  1   1969152  ultralytics.nn.modules.block.C2f             [768, 512, 1]                 \n",
      " 22        [15, 18, 21]  1   2117983  ultralytics.nn.modules.head.Detect           [5, [128, 256, 512]]          \n",
      "YOLOv8s summary: 225 layers, 11137535 parameters, 11137519 gradients, 28.7 GFLOPs\n",
      "\n",
      "\u001b[34m\u001b[1mTensorBoard: \u001b[0mStart with 'tensorboard --logdir runs\\detect\\train', view at http://localhost:6006/\n"
     ]
    },
    {
     "name": "stderr",
     "output_type": "stream",
     "text": [
      "\u001b[34m\u001b[1mwandb\u001b[0m: Currently logged in as: \u001b[33maganiev\u001b[0m (\u001b[33maganiev1993\u001b[0m). Use \u001b[1m`wandb login --relogin`\u001b[0m to force relogin\n"
     ]
    },
    {
     "data": {
      "text/html": [
       "wandb version 0.17.0 is available!  To upgrade, please run:\n",
       " $ pip install wandb --upgrade"
      ],
      "text/plain": [
       "<IPython.core.display.HTML object>"
      ]
     },
     "metadata": {},
     "output_type": "display_data"
    },
    {
     "data": {
      "text/html": [
       "Tracking run with wandb version 0.16.6"
      ],
      "text/plain": [
       "<IPython.core.display.HTML object>"
      ]
     },
     "metadata": {},
     "output_type": "display_data"
    },
    {
     "data": {
      "text/html": [
       "Run data is saved locally in <code>C:\\Users\\shgan\\WD\\Avito Analytics Academy\\AAA Final project\\env\\wandb\\run-20240602_190746-6db5if55</code>"
      ],
      "text/plain": [
       "<IPython.core.display.HTML object>"
      ]
     },
     "metadata": {},
     "output_type": "display_data"
    },
    {
     "data": {
      "text/html": [
       "Syncing run <strong><a href='https://wandb.ai/aganiev1993/YOLOv8/runs/6db5if55' target=\"_blank\">train</a></strong> to <a href='https://wandb.ai/aganiev1993/YOLOv8' target=\"_blank\">Weights & Biases</a> (<a href='https://wandb.me/run' target=\"_blank\">docs</a>)<br/>"
      ],
      "text/plain": [
       "<IPython.core.display.HTML object>"
      ]
     },
     "metadata": {},
     "output_type": "display_data"
    },
    {
     "data": {
      "text/html": [
       " View project at <a href='https://wandb.ai/aganiev1993/YOLOv8' target=\"_blank\">https://wandb.ai/aganiev1993/YOLOv8</a>"
      ],
      "text/plain": [
       "<IPython.core.display.HTML object>"
      ]
     },
     "metadata": {},
     "output_type": "display_data"
    },
    {
     "data": {
      "text/html": [
       " View run at <a href='https://wandb.ai/aganiev1993/YOLOv8/runs/6db5if55' target=\"_blank\">https://wandb.ai/aganiev1993/YOLOv8/runs/6db5if55</a>"
      ],
      "text/plain": [
       "<IPython.core.display.HTML object>"
      ]
     },
     "metadata": {},
     "output_type": "display_data"
    },
    {
     "name": "stdout",
     "output_type": "stream",
     "text": [
      "Freezing layer 'model.22.dfl.conv.weight'\n",
      "\u001b[34m\u001b[1mAMP: \u001b[0mrunning Automatic Mixed Precision (AMP) checks with YOLOv8n...\n",
      "Downloading https://github.com/ultralytics/assets/releases/download/v8.1.0/yolov8n.pt to 'yolov8n.pt'...\n"
     ]
    },
    {
     "name": "stderr",
     "output_type": "stream",
     "text": [
      "100%|█████████████████████████████████████████████████████████████████████████████| 6.23M/6.23M [00:01<00:00, 6.00MB/s]\n"
     ]
    },
    {
     "name": "stdout",
     "output_type": "stream",
     "text": [
      "\u001b[34m\u001b[1mAMP: \u001b[0mchecks passed ✅\n"
     ]
    },
    {
     "name": "stderr",
     "output_type": "stream",
     "text": [
      "\u001b[34m\u001b[1mtrain: \u001b[0mScanning C:\\Users\\shgan\\WD\\Avito Analytics Academy\\AAA Final project\\env\\YOLO data\\labels\\train... 23100 images,\u001b[0m"
     ]
    },
    {
     "name": "stdout",
     "output_type": "stream",
     "text": [
      "\u001b[34m\u001b[1mtrain: \u001b[0mWARNING ⚠️ C:\\Users\\shgan\\WD\\Avito Analytics Academy\\AAA Final project\\env\\YOLO data\\images\\train\\127988.jpg: ignoring corrupt image/label: non-normalized or out of bounds coordinates [     1.0098]\n",
      "\u001b[34m\u001b[1mtrain: \u001b[0mWARNING ⚠️ C:\\Users\\shgan\\WD\\Avito Analytics Academy\\AAA Final project\\env\\YOLO data\\images\\train\\128100.jpg: ignoring corrupt image/label: non-normalized or out of bounds coordinates [     1.0117]\n",
      "\u001b[34m\u001b[1mtrain: \u001b[0mWARNING ⚠️ C:\\Users\\shgan\\WD\\Avito Analytics Academy\\AAA Final project\\env\\YOLO data\\images\\train\\128111.jpg: ignoring corrupt image/label: non-normalized or out of bounds coordinates [      1.002]\n",
      "\u001b[34m\u001b[1mtrain: \u001b[0mWARNING ⚠️ C:\\Users\\shgan\\WD\\Avito Analytics Academy\\AAA Final project\\env\\YOLO data\\images\\train\\128495.jpg: ignoring corrupt image/label: non-normalized or out of bounds coordinates [     1.0268]\n",
      "\u001b[34m\u001b[1mtrain: \u001b[0mWARNING ⚠️ C:\\Users\\shgan\\WD\\Avito Analytics Academy\\AAA Final project\\env\\YOLO data\\images\\train\\128504.jpg: ignoring corrupt image/label: non-normalized or out of bounds coordinates [     1.0192]\n",
      "\u001b[34m\u001b[1mtrain: \u001b[0mWARNING ⚠️ C:\\Users\\shgan\\WD\\Avito Analytics Academy\\AAA Final project\\env\\YOLO data\\images\\train\\129315.jpg: ignoring corrupt image/label: non-normalized or out of bounds coordinates [     1.0134]\n",
      "\u001b[34m\u001b[1mtrain: \u001b[0mWARNING ⚠️ C:\\Users\\shgan\\WD\\Avito Analytics Academy\\AAA Final project\\env\\YOLO data\\images\\train\\130724.jpg: ignoring corrupt image/label: non-normalized or out of bounds coordinates [     1.0117]\n",
      "\u001b[34m\u001b[1mtrain: \u001b[0mWARNING ⚠️ C:\\Users\\shgan\\WD\\Avito Analytics Academy\\AAA Final project\\env\\YOLO data\\images\\train\\130751.jpg: ignoring corrupt image/label: non-normalized or out of bounds coordinates [     1.0117]\n",
      "\u001b[34m\u001b[1mtrain: \u001b[0mWARNING ⚠️ C:\\Users\\shgan\\WD\\Avito Analytics Academy\\AAA Final project\\env\\YOLO data\\images\\train\\13115.jpg: ignoring corrupt image/label: non-normalized or out of bounds coordinates [     1.0117]\n",
      "\u001b[34m\u001b[1mtrain: \u001b[0mWARNING ⚠️ C:\\Users\\shgan\\WD\\Avito Analytics Academy\\AAA Final project\\env\\YOLO data\\images\\train\\131979.jpg: ignoring corrupt image/label: non-normalized or out of bounds coordinates [      1.015]\n",
      "\u001b[34m\u001b[1mtrain: \u001b[0mWARNING ⚠️ C:\\Users\\shgan\\WD\\Avito Analytics Academy\\AAA Final project\\env\\YOLO data\\images\\train\\132269.jpg: ignoring corrupt image/label: non-normalized or out of bounds coordinates [      1.015]\n",
      "\u001b[34m\u001b[1mtrain: \u001b[0mWARNING ⚠️ C:\\Users\\shgan\\WD\\Avito Analytics Academy\\AAA Final project\\env\\YOLO data\\images\\train\\132667.jpg: ignoring corrupt image/label: non-normalized or out of bounds coordinates [     1.0256]\n",
      "\u001b[34m\u001b[1mtrain: \u001b[0mWARNING ⚠️ C:\\Users\\shgan\\WD\\Avito Analytics Academy\\AAA Final project\\env\\YOLO data\\images\\train\\133980.jpg: ignoring corrupt image/label: non-normalized or out of bounds coordinates [     1.0195]\n",
      "\u001b[34m\u001b[1mtrain: \u001b[0mWARNING ⚠️ C:\\Users\\shgan\\WD\\Avito Analytics Academy\\AAA Final project\\env\\YOLO data\\images\\train\\136308.jpg: ignoring corrupt image/label: non-normalized or out of bounds coordinates [     1.0178]\n",
      "\u001b[34m\u001b[1mtrain: \u001b[0mWARNING ⚠️ C:\\Users\\shgan\\WD\\Avito Analytics Academy\\AAA Final project\\env\\YOLO data\\images\\train\\137794.jpg: ignoring corrupt image/label: non-normalized or out of bounds coordinates [     1.0122]\n",
      "\u001b[34m\u001b[1mtrain: \u001b[0mWARNING ⚠️ C:\\Users\\shgan\\WD\\Avito Analytics Academy\\AAA Final project\\env\\YOLO data\\images\\train\\13980.jpg: ignoring corrupt image/label: non-normalized or out of bounds coordinates [     1.0219]\n",
      "\u001b[34m\u001b[1mtrain: \u001b[0mWARNING ⚠️ C:\\Users\\shgan\\WD\\Avito Analytics Academy\\AAA Final project\\env\\YOLO data\\images\\train\\139990.jpg: ignoring corrupt image/label: non-normalized or out of bounds coordinates [     1.0119]\n",
      "\u001b[34m\u001b[1mtrain: \u001b[0mWARNING ⚠️ C:\\Users\\shgan\\WD\\Avito Analytics Academy\\AAA Final project\\env\\YOLO data\\images\\train\\140468.jpg: ignoring corrupt image/label: non-normalized or out of bounds coordinates [      1.014]\n",
      "\u001b[34m\u001b[1mtrain: \u001b[0mWARNING ⚠️ C:\\Users\\shgan\\WD\\Avito Analytics Academy\\AAA Final project\\env\\YOLO data\\images\\train\\142255.jpg: ignoring corrupt image/label: non-normalized or out of bounds coordinates [     1.0536]\n",
      "\u001b[34m\u001b[1mtrain: \u001b[0mWARNING ⚠️ C:\\Users\\shgan\\WD\\Avito Analytics Academy\\AAA Final project\\env\\YOLO data\\images\\train\\144410.jpg: ignoring corrupt image/label: non-normalized or out of bounds coordinates [     1.0117]\n",
      "\u001b[34m\u001b[1mtrain: \u001b[0mWARNING ⚠️ C:\\Users\\shgan\\WD\\Avito Analytics Academy\\AAA Final project\\env\\YOLO data\\images\\train\\147756.jpg: ignoring corrupt image/label: non-normalized or out of bounds coordinates [     1.0117]\n",
      "\u001b[34m\u001b[1mtrain: \u001b[0mWARNING ⚠️ C:\\Users\\shgan\\WD\\Avito Analytics Academy\\AAA Final project\\env\\YOLO data\\images\\train\\147864.jpg: ignoring corrupt image/label: non-normalized or out of bounds coordinates [     1.0059]\n",
      "\u001b[34m\u001b[1mtrain: \u001b[0mWARNING ⚠️ C:\\Users\\shgan\\WD\\Avito Analytics Academy\\AAA Final project\\env\\YOLO data\\images\\train\\148746.jpg: ignoring corrupt image/label: non-normalized or out of bounds coordinates [     1.0117]\n",
      "\u001b[34m\u001b[1mtrain: \u001b[0mWARNING ⚠️ C:\\Users\\shgan\\WD\\Avito Analytics Academy\\AAA Final project\\env\\YOLO data\\images\\train\\149391.jpg: ignoring corrupt image/label: non-normalized or out of bounds coordinates [     1.0117]\n",
      "\u001b[34m\u001b[1mtrain: \u001b[0mWARNING ⚠️ C:\\Users\\shgan\\WD\\Avito Analytics Academy\\AAA Final project\\env\\YOLO data\\images\\train\\150234.jpg: ignoring corrupt image/label: non-normalized or out of bounds coordinates [     1.0117]\n",
      "\u001b[34m\u001b[1mtrain: \u001b[0mWARNING ⚠️ C:\\Users\\shgan\\WD\\Avito Analytics Academy\\AAA Final project\\env\\YOLO data\\images\\train\\151984.jpg: ignoring corrupt image/label: non-normalized or out of bounds coordinates [     1.0119]\n",
      "\u001b[34m\u001b[1mtrain: \u001b[0mWARNING ⚠️ C:\\Users\\shgan\\WD\\Avito Analytics Academy\\AAA Final project\\env\\YOLO data\\images\\train\\152428.jpg: ignoring corrupt image/label: non-normalized or out of bounds coordinates [     1.0135]\n",
      "\u001b[34m\u001b[1mtrain: \u001b[0mWARNING ⚠️ C:\\Users\\shgan\\WD\\Avito Analytics Academy\\AAA Final project\\env\\YOLO data\\images\\train\\152465.jpg: ignoring corrupt image/label: non-normalized or out of bounds coordinates [     1.0117]\n",
      "\u001b[34m\u001b[1mtrain: \u001b[0mWARNING ⚠️ C:\\Users\\shgan\\WD\\Avito Analytics Academy\\AAA Final project\\env\\YOLO data\\images\\train\\153298.jpg: ignoring corrupt image/label: non-normalized or out of bounds coordinates [     1.0119]\n",
      "\u001b[34m\u001b[1mtrain: \u001b[0mWARNING ⚠️ C:\\Users\\shgan\\WD\\Avito Analytics Academy\\AAA Final project\\env\\YOLO data\\images\\train\\153610.jpg: ignoring corrupt image/label: non-normalized or out of bounds coordinates [     1.0059]\n",
      "\u001b[34m\u001b[1mtrain: \u001b[0mWARNING ⚠️ C:\\Users\\shgan\\WD\\Avito Analytics Academy\\AAA Final project\\env\\YOLO data\\images\\train\\153758.jpg: ignoring corrupt image/label: non-normalized or out of bounds coordinates [      1.002]\n",
      "\u001b[34m\u001b[1mtrain: \u001b[0mWARNING ⚠️ C:\\Users\\shgan\\WD\\Avito Analytics Academy\\AAA Final project\\env\\YOLO data\\images\\train\\153954.jpg: ignoring corrupt image/label: non-normalized or out of bounds coordinates [     1.0359]\n",
      "\u001b[34m\u001b[1mtrain: \u001b[0mWARNING ⚠️ C:\\Users\\shgan\\WD\\Avito Analytics Academy\\AAA Final project\\env\\YOLO data\\images\\train\\154789.jpg: ignoring corrupt image/label: non-normalized or out of bounds coordinates [     1.0098]\n",
      "\u001b[34m\u001b[1mtrain: \u001b[0mWARNING ⚠️ C:\\Users\\shgan\\WD\\Avito Analytics Academy\\AAA Final project\\env\\YOLO data\\images\\train\\155757.jpg: ignoring corrupt image/label: non-normalized or out of bounds coordinates [     1.0125]\n",
      "\u001b[34m\u001b[1mtrain: \u001b[0mWARNING ⚠️ C:\\Users\\shgan\\WD\\Avito Analytics Academy\\AAA Final project\\env\\YOLO data\\images\\train\\158417.jpg: ignoring corrupt image/label: non-normalized or out of bounds coordinates [     1.0133]\n",
      "\u001b[34m\u001b[1mtrain: \u001b[0mWARNING ⚠️ C:\\Users\\shgan\\WD\\Avito Analytics Academy\\AAA Final project\\env\\YOLO data\\images\\train\\159053.jpg: ignoring corrupt image/label: non-normalized or out of bounds coordinates [     1.0202]\n",
      "\u001b[34m\u001b[1mtrain: \u001b[0mWARNING ⚠️ C:\\Users\\shgan\\WD\\Avito Analytics Academy\\AAA Final project\\env\\YOLO data\\images\\train\\159651.jpg: ignoring corrupt image/label: non-normalized or out of bounds coordinates [     1.0117]\n",
      "\u001b[34m\u001b[1mtrain: \u001b[0mWARNING ⚠️ C:\\Users\\shgan\\WD\\Avito Analytics Academy\\AAA Final project\\env\\YOLO data\\images\\train\\163644.jpg: ignoring corrupt image/label: non-normalized or out of bounds coordinates [     1.0117]\n",
      "\u001b[34m\u001b[1mtrain: \u001b[0mWARNING ⚠️ C:\\Users\\shgan\\WD\\Avito Analytics Academy\\AAA Final project\\env\\YOLO data\\images\\train\\163753.jpg: ignoring corrupt image/label: non-normalized or out of bounds coordinates [      1.025]\n",
      "\u001b[34m\u001b[1mtrain: \u001b[0mWARNING ⚠️ C:\\Users\\shgan\\WD\\Avito Analytics Academy\\AAA Final project\\env\\YOLO data\\images\\train\\164195.jpg: ignoring corrupt image/label: non-normalized or out of bounds coordinates [     1.0117]\n",
      "\u001b[34m\u001b[1mtrain: \u001b[0mWARNING ⚠️ C:\\Users\\shgan\\WD\\Avito Analytics Academy\\AAA Final project\\env\\YOLO data\\images\\train\\165353.jpg: ignoring corrupt image/label: non-normalized or out of bounds coordinates [     1.0146]\n",
      "\u001b[34m\u001b[1mtrain: \u001b[0mWARNING ⚠️ C:\\Users\\shgan\\WD\\Avito Analytics Academy\\AAA Final project\\env\\YOLO data\\images\\train\\165379.jpg: ignoring corrupt image/label: non-normalized or out of bounds coordinates [     1.0169]\n",
      "\u001b[34m\u001b[1mtrain: \u001b[0mWARNING ⚠️ C:\\Users\\shgan\\WD\\Avito Analytics Academy\\AAA Final project\\env\\YOLO data\\images\\train\\167736.jpg: ignoring corrupt image/label: non-normalized or out of bounds coordinates [     1.0039]\n",
      "\u001b[34m\u001b[1mtrain: \u001b[0mWARNING ⚠️ C:\\Users\\shgan\\WD\\Avito Analytics Academy\\AAA Final project\\env\\YOLO data\\images\\train\\167754.jpg: ignoring corrupt image/label: non-normalized or out of bounds coordinates [     1.0117]\n",
      "\u001b[34m\u001b[1mtrain: \u001b[0mWARNING ⚠️ C:\\Users\\shgan\\WD\\Avito Analytics Academy\\AAA Final project\\env\\YOLO data\\images\\train\\171582.jpg: ignoring corrupt image/label: non-normalized or out of bounds coordinates [      1.015]\n",
      "\u001b[34m\u001b[1mtrain: \u001b[0mWARNING ⚠️ C:\\Users\\shgan\\WD\\Avito Analytics Academy\\AAA Final project\\env\\YOLO data\\images\\train\\182546.jpg: ignoring corrupt image/label: non-normalized or out of bounds coordinates [     1.0136]\n",
      "\u001b[34m\u001b[1mtrain: \u001b[0mWARNING ⚠️ C:\\Users\\shgan\\WD\\Avito Analytics Academy\\AAA Final project\\env\\YOLO data\\images\\train\\184871.jpg: ignoring corrupt image/label: non-normalized or out of bounds coordinates [     1.0571]\n",
      "\u001b[34m\u001b[1mtrain: \u001b[0mWARNING ⚠️ C:\\Users\\shgan\\WD\\Avito Analytics Academy\\AAA Final project\\env\\YOLO data\\images\\train\\186311.jpg: ignoring corrupt image/label: non-normalized or out of bounds coordinates [     1.0022]\n",
      "\u001b[34m\u001b[1mtrain: \u001b[0mWARNING ⚠️ C:\\Users\\shgan\\WD\\Avito Analytics Academy\\AAA Final project\\env\\YOLO data\\images\\train\\186722.jpg: ignoring corrupt image/label: non-normalized or out of bounds coordinates [     1.0571]\n",
      "\u001b[34m\u001b[1mtrain: \u001b[0mWARNING ⚠️ C:\\Users\\shgan\\WD\\Avito Analytics Academy\\AAA Final project\\env\\YOLO data\\images\\train\\187835.jpg: ignoring corrupt image/label: non-normalized or out of bounds coordinates [     1.0414]\n",
      "\u001b[34m\u001b[1mtrain: \u001b[0mWARNING ⚠️ C:\\Users\\shgan\\WD\\Avito Analytics Academy\\AAA Final project\\env\\YOLO data\\images\\train\\189759.jpg: ignoring corrupt image/label: non-normalized or out of bounds coordinates [     1.0145]\n",
      "\u001b[34m\u001b[1mtrain: \u001b[0mWARNING ⚠️ C:\\Users\\shgan\\WD\\Avito Analytics Academy\\AAA Final project\\env\\YOLO data\\images\\train\\1901.jpg: ignoring corrupt image/label: non-normalized or out of bounds coordinates [     1.0117]\n",
      "\u001b[34m\u001b[1mtrain: \u001b[0mWARNING ⚠️ C:\\Users\\shgan\\WD\\Avito Analytics Academy\\AAA Final project\\env\\YOLO data\\images\\train\\190125.jpg: ignoring corrupt image/label: non-normalized or out of bounds coordinates [     1.0131]\n",
      "\u001b[34m\u001b[1mtrain: \u001b[0mWARNING ⚠️ C:\\Users\\shgan\\WD\\Avito Analytics Academy\\AAA Final project\\env\\YOLO data\\images\\train\\191400.jpg: ignoring corrupt image/label: non-normalized or out of bounds coordinates [     1.0319]\n",
      "\u001b[34m\u001b[1mtrain: \u001b[0mWARNING ⚠️ C:\\Users\\shgan\\WD\\Avito Analytics Academy\\AAA Final project\\env\\YOLO data\\images\\train\\191943.jpg: ignoring corrupt image/label: non-normalized or out of bounds coordinates [       1.03]\n",
      "\u001b[34m\u001b[1mtrain: \u001b[0mWARNING ⚠️ C:\\Users\\shgan\\WD\\Avito Analytics Academy\\AAA Final project\\env\\YOLO data\\images\\train\\193387.jpg: ignoring corrupt image/label: non-normalized or out of bounds coordinates [     1.0111]\n",
      "\u001b[34m\u001b[1mtrain: \u001b[0mWARNING ⚠️ C:\\Users\\shgan\\WD\\Avito Analytics Academy\\AAA Final project\\env\\YOLO data\\images\\train\\198011.jpg: ignoring corrupt image/label: non-normalized or out of bounds coordinates [     1.0117]\n",
      "\u001b[34m\u001b[1mtrain: \u001b[0mWARNING ⚠️ C:\\Users\\shgan\\WD\\Avito Analytics Academy\\AAA Final project\\env\\YOLO data\\images\\train\\19863.jpg: ignoring corrupt image/label: non-normalized or out of bounds coordinates [     1.0039]\n",
      "\u001b[34m\u001b[1mtrain: \u001b[0mWARNING ⚠️ C:\\Users\\shgan\\WD\\Avito Analytics Academy\\AAA Final project\\env\\YOLO data\\images\\train\\199892.jpg: ignoring corrupt image/label: non-normalized or out of bounds coordinates [     1.0117]\n",
      "\u001b[34m\u001b[1mtrain: \u001b[0mWARNING ⚠️ C:\\Users\\shgan\\WD\\Avito Analytics Academy\\AAA Final project\\env\\YOLO data\\images\\train\\200027.jpg: ignoring corrupt image/label: non-normalized or out of bounds coordinates [      1.015]\n",
      "\u001b[34m\u001b[1mtrain: \u001b[0mWARNING ⚠️ C:\\Users\\shgan\\WD\\Avito Analytics Academy\\AAA Final project\\env\\YOLO data\\images\\train\\200052.jpg: ignoring corrupt image/label: non-normalized or out of bounds coordinates [     1.0201]\n",
      "\u001b[34m\u001b[1mtrain: \u001b[0mWARNING ⚠️ C:\\Users\\shgan\\WD\\Avito Analytics Academy\\AAA Final project\\env\\YOLO data\\images\\train\\201827.jpg: ignoring corrupt image/label: non-normalized or out of bounds coordinates [     1.0247]\n",
      "\u001b[34m\u001b[1mtrain: \u001b[0mWARNING ⚠️ C:\\Users\\shgan\\WD\\Avito Analytics Academy\\AAA Final project\\env\\YOLO data\\images\\train\\205295.jpg: ignoring corrupt image/label: non-normalized or out of bounds coordinates [     1.0117]\n",
      "\u001b[34m\u001b[1mtrain: \u001b[0mWARNING ⚠️ C:\\Users\\shgan\\WD\\Avito Analytics Academy\\AAA Final project\\env\\YOLO data\\images\\train\\205368.jpg: ignoring corrupt image/label: non-normalized or out of bounds coordinates [     1.0117]\n",
      "\u001b[34m\u001b[1mtrain: \u001b[0mWARNING ⚠️ C:\\Users\\shgan\\WD\\Avito Analytics Academy\\AAA Final project\\env\\YOLO data\\images\\train\\207584.jpg: ignoring corrupt image/label: non-normalized or out of bounds coordinates [     1.0088]\n",
      "\u001b[34m\u001b[1mtrain: \u001b[0mWARNING ⚠️ C:\\Users\\shgan\\WD\\Avito Analytics Academy\\AAA Final project\\env\\YOLO data\\images\\train\\211235.jpg: ignoring corrupt image/label: non-normalized or out of bounds coordinates [     1.0098]\n",
      "\u001b[34m\u001b[1mtrain: \u001b[0mWARNING ⚠️ C:\\Users\\shgan\\WD\\Avito Analytics Academy\\AAA Final project\\env\\YOLO data\\images\\train\\211586.jpg: ignoring corrupt image/label: non-normalized or out of bounds coordinates [     1.0117]\n",
      "\u001b[34m\u001b[1mtrain: \u001b[0mWARNING ⚠️ C:\\Users\\shgan\\WD\\Avito Analytics Academy\\AAA Final project\\env\\YOLO data\\images\\train\\212258.jpg: ignoring corrupt image/label: non-normalized or out of bounds coordinates [     1.0392]\n",
      "\u001b[34m\u001b[1mtrain: \u001b[0mWARNING ⚠️ C:\\Users\\shgan\\WD\\Avito Analytics Academy\\AAA Final project\\env\\YOLO data\\images\\train\\212965.jpg: ignoring corrupt image/label: non-normalized or out of bounds coordinates [     1.0175]\n",
      "\u001b[34m\u001b[1mtrain: \u001b[0mWARNING ⚠️ C:\\Users\\shgan\\WD\\Avito Analytics Academy\\AAA Final project\\env\\YOLO data\\images\\train\\214674.jpg: ignoring corrupt image/label: non-normalized or out of bounds coordinates [      1.005]\n",
      "\u001b[34m\u001b[1mtrain: \u001b[0mWARNING ⚠️ C:\\Users\\shgan\\WD\\Avito Analytics Academy\\AAA Final project\\env\\YOLO data\\images\\train\\218136.jpg: ignoring corrupt image/label: non-normalized or out of bounds coordinates [     1.0117]\n",
      "\u001b[34m\u001b[1mtrain: \u001b[0mWARNING ⚠️ C:\\Users\\shgan\\WD\\Avito Analytics Academy\\AAA Final project\\env\\YOLO data\\images\\train\\218649.jpg: ignoring corrupt image/label: non-normalized or out of bounds coordinates [     1.0138]\n",
      "\u001b[34m\u001b[1mtrain: \u001b[0mWARNING ⚠️ C:\\Users\\shgan\\WD\\Avito Analytics Academy\\AAA Final project\\env\\YOLO data\\images\\train\\221605.jpg: ignoring corrupt image/label: non-normalized or out of bounds coordinates [     1.0117]\n",
      "\u001b[34m\u001b[1mtrain: \u001b[0mWARNING ⚠️ C:\\Users\\shgan\\WD\\Avito Analytics Academy\\AAA Final project\\env\\YOLO data\\images\\train\\222741.jpg: ignoring corrupt image/label: non-normalized or out of bounds coordinates [     1.0117]\n",
      "\u001b[34m\u001b[1mtrain: \u001b[0mWARNING ⚠️ C:\\Users\\shgan\\WD\\Avito Analytics Academy\\AAA Final project\\env\\YOLO data\\images\\train\\226283.jpg: ignoring corrupt image/label: non-normalized or out of bounds coordinates [     1.0282]\n",
      "\u001b[34m\u001b[1mtrain: \u001b[0mWARNING ⚠️ C:\\Users\\shgan\\WD\\Avito Analytics Academy\\AAA Final project\\env\\YOLO data\\images\\train\\229392.jpg: ignoring corrupt image/label: non-normalized or out of bounds coordinates [     1.0078]\n",
      "\u001b[34m\u001b[1mtrain: \u001b[0mWARNING ⚠️ C:\\Users\\shgan\\WD\\Avito Analytics Academy\\AAA Final project\\env\\YOLO data\\images\\train\\230878.jpg: ignoring corrupt image/label: non-normalized or out of bounds coordinates [     1.0045]\n",
      "\u001b[34m\u001b[1mtrain: \u001b[0mWARNING ⚠️ C:\\Users\\shgan\\WD\\Avito Analytics Academy\\AAA Final project\\env\\YOLO data\\images\\train\\233516.jpg: ignoring corrupt image/label: non-normalized or out of bounds coordinates [     1.0117]\n",
      "\u001b[34m\u001b[1mtrain: \u001b[0mWARNING ⚠️ C:\\Users\\shgan\\WD\\Avito Analytics Academy\\AAA Final project\\env\\YOLO data\\images\\train\\238443.jpg: ignoring corrupt image/label: non-normalized or out of bounds coordinates [     1.0117]\n",
      "\u001b[34m\u001b[1mtrain: \u001b[0mWARNING ⚠️ C:\\Users\\shgan\\WD\\Avito Analytics Academy\\AAA Final project\\env\\YOLO data\\images\\train\\239415.jpg: ignoring corrupt image/label: non-normalized or out of bounds coordinates [     1.0117]\n",
      "\u001b[34m\u001b[1mtrain: \u001b[0mWARNING ⚠️ C:\\Users\\shgan\\WD\\Avito Analytics Academy\\AAA Final project\\env\\YOLO data\\images\\train\\239576.jpg: ignoring corrupt image/label: non-normalized or out of bounds coordinates [     1.0117]\n",
      "\u001b[34m\u001b[1mtrain: \u001b[0mWARNING ⚠️ C:\\Users\\shgan\\WD\\Avito Analytics Academy\\AAA Final project\\env\\YOLO data\\images\\train\\241473.jpg: ignoring corrupt image/label: non-normalized or out of bounds coordinates [     1.0309]\n",
      "\u001b[34m\u001b[1mtrain: \u001b[0mWARNING ⚠️ C:\\Users\\shgan\\WD\\Avito Analytics Academy\\AAA Final project\\env\\YOLO data\\images\\train\\241578.jpg: ignoring corrupt image/label: non-normalized or out of bounds coordinates [     1.0169]\n",
      "\u001b[34m\u001b[1mtrain: \u001b[0mWARNING ⚠️ C:\\Users\\shgan\\WD\\Avito Analytics Academy\\AAA Final project\\env\\YOLO data\\images\\train\\24309.jpg: ignoring corrupt image/label: non-normalized or out of bounds coordinates [     1.0117]\n",
      "\u001b[34m\u001b[1mtrain: \u001b[0mWARNING ⚠️ C:\\Users\\shgan\\WD\\Avito Analytics Academy\\AAA Final project\\env\\YOLO data\\images\\train\\243662.jpg: ignoring corrupt image/label: non-normalized or out of bounds coordinates [     1.0117]\n",
      "\u001b[34m\u001b[1mtrain: \u001b[0mWARNING ⚠️ C:\\Users\\shgan\\WD\\Avito Analytics Academy\\AAA Final project\\env\\YOLO data\\images\\train\\243750.jpg: ignoring corrupt image/label: non-normalized or out of bounds coordinates [     1.0117]\n",
      "\u001b[34m\u001b[1mtrain: \u001b[0mWARNING ⚠️ C:\\Users\\shgan\\WD\\Avito Analytics Academy\\AAA Final project\\env\\YOLO data\\images\\train\\245336.jpg: ignoring corrupt image/label: non-normalized or out of bounds coordinates [     1.0139]\n",
      "\u001b[34m\u001b[1mtrain: \u001b[0mWARNING ⚠️ C:\\Users\\shgan\\WD\\Avito Analytics Academy\\AAA Final project\\env\\YOLO data\\images\\train\\246243.jpg: ignoring corrupt image/label: non-normalized or out of bounds coordinates [     1.0117]\n",
      "\u001b[34m\u001b[1mtrain: \u001b[0mWARNING ⚠️ C:\\Users\\shgan\\WD\\Avito Analytics Academy\\AAA Final project\\env\\YOLO data\\images\\train\\246669.jpg: ignoring corrupt image/label: non-normalized or out of bounds coordinates [     1.0117]\n",
      "\u001b[34m\u001b[1mtrain: \u001b[0mWARNING ⚠️ C:\\Users\\shgan\\WD\\Avito Analytics Academy\\AAA Final project\\env\\YOLO data\\images\\train\\247024.jpg: ignoring corrupt image/label: non-normalized or out of bounds coordinates [     1.0117]\n",
      "\u001b[34m\u001b[1mtrain: \u001b[0mWARNING ⚠️ C:\\Users\\shgan\\WD\\Avito Analytics Academy\\AAA Final project\\env\\YOLO data\\images\\train\\247133.jpg: ignoring corrupt image/label: non-normalized or out of bounds coordinates [     1.0117]\n",
      "\u001b[34m\u001b[1mtrain: \u001b[0mWARNING ⚠️ C:\\Users\\shgan\\WD\\Avito Analytics Academy\\AAA Final project\\env\\YOLO data\\images\\train\\25065.jpg: ignoring corrupt image/label: non-normalized or out of bounds coordinates [     1.0117]\n",
      "\u001b[34m\u001b[1mtrain: \u001b[0mWARNING ⚠️ C:\\Users\\shgan\\WD\\Avito Analytics Academy\\AAA Final project\\env\\YOLO data\\images\\train\\252405.jpg: ignoring corrupt image/label: non-normalized or out of bounds coordinates [     1.0117]\n",
      "\u001b[34m\u001b[1mtrain: \u001b[0mWARNING ⚠️ C:\\Users\\shgan\\WD\\Avito Analytics Academy\\AAA Final project\\env\\YOLO data\\images\\train\\253551.jpg: ignoring corrupt image/label: non-normalized or out of bounds coordinates [     1.0078]\n",
      "\u001b[34m\u001b[1mtrain: \u001b[0mWARNING ⚠️ C:\\Users\\shgan\\WD\\Avito Analytics Academy\\AAA Final project\\env\\YOLO data\\images\\train\\254013.jpg: ignoring corrupt image/label: non-normalized or out of bounds coordinates [      1.002]\n",
      "\u001b[34m\u001b[1mtrain: \u001b[0mWARNING ⚠️ C:\\Users\\shgan\\WD\\Avito Analytics Academy\\AAA Final project\\env\\YOLO data\\images\\train\\254300.jpg: ignoring corrupt image/label: non-normalized or out of bounds coordinates [     1.0068]\n",
      "\u001b[34m\u001b[1mtrain: \u001b[0mWARNING ⚠️ C:\\Users\\shgan\\WD\\Avito Analytics Academy\\AAA Final project\\env\\YOLO data\\images\\train\\254706.jpg: ignoring corrupt image/label: non-normalized or out of bounds coordinates [      1.025]\n",
      "\u001b[34m\u001b[1mtrain: \u001b[0mWARNING ⚠️ C:\\Users\\shgan\\WD\\Avito Analytics Academy\\AAA Final project\\env\\YOLO data\\images\\train\\25782.jpg: ignoring corrupt image/label: non-normalized or out of bounds coordinates [     1.0117]\n",
      "\u001b[34m\u001b[1mtrain: \u001b[0mWARNING ⚠️ C:\\Users\\shgan\\WD\\Avito Analytics Academy\\AAA Final project\\env\\YOLO data\\images\\train\\258413.jpg: ignoring corrupt image/label: non-normalized or out of bounds coordinates [     1.0059]\n",
      "\u001b[34m\u001b[1mtrain: \u001b[0mWARNING ⚠️ C:\\Users\\shgan\\WD\\Avito Analytics Academy\\AAA Final project\\env\\YOLO data\\images\\train\\260543.jpg: ignoring corrupt image/label: non-normalized or out of bounds coordinates [      1.002]\n",
      "\u001b[34m\u001b[1mtrain: \u001b[0mWARNING ⚠️ C:\\Users\\shgan\\WD\\Avito Analytics Academy\\AAA Final project\\env\\YOLO data\\images\\train\\261462.jpg: ignoring corrupt image/label: non-normalized or out of bounds coordinates [     1.0357]\n",
      "\u001b[34m\u001b[1mtrain: \u001b[0mWARNING ⚠️ C:\\Users\\shgan\\WD\\Avito Analytics Academy\\AAA Final project\\env\\YOLO data\\images\\train\\263737.jpg: ignoring corrupt image/label: non-normalized or out of bounds coordinates [     1.0254]\n",
      "\u001b[34m\u001b[1mtrain: \u001b[0mWARNING ⚠️ C:\\Users\\shgan\\WD\\Avito Analytics Academy\\AAA Final project\\env\\YOLO data\\images\\train\\264807.jpg: ignoring corrupt image/label: non-normalized or out of bounds coordinates [     1.0545]\n",
      "\u001b[34m\u001b[1mtrain: \u001b[0mWARNING ⚠️ C:\\Users\\shgan\\WD\\Avito Analytics Academy\\AAA Final project\\env\\YOLO data\\images\\train\\26529.jpg: ignoring corrupt image/label: non-normalized or out of bounds coordinates [     1.0117]\n",
      "\u001b[34m\u001b[1mtrain: \u001b[0mWARNING ⚠️ C:\\Users\\shgan\\WD\\Avito Analytics Academy\\AAA Final project\\env\\YOLO data\\images\\train\\265378.jpg: ignoring corrupt image/label: non-normalized or out of bounds coordinates [      1.018]\n",
      "\u001b[34m\u001b[1mtrain: \u001b[0mWARNING ⚠️ C:\\Users\\shgan\\WD\\Avito Analytics Academy\\AAA Final project\\env\\YOLO data\\images\\train\\265716.jpg: ignoring corrupt image/label: non-normalized or out of bounds coordinates [     1.0117]\n",
      "\u001b[34m\u001b[1mtrain: \u001b[0mWARNING ⚠️ C:\\Users\\shgan\\WD\\Avito Analytics Academy\\AAA Final project\\env\\YOLO data\\images\\train\\268866.jpg: ignoring corrupt image/label: non-normalized or out of bounds coordinates [     1.0204]\n",
      "\u001b[34m\u001b[1mtrain: \u001b[0mWARNING ⚠️ C:\\Users\\shgan\\WD\\Avito Analytics Academy\\AAA Final project\\env\\YOLO data\\images\\train\\269336.jpg: ignoring corrupt image/label: non-normalized or out of bounds coordinates [     1.0133]\n",
      "\u001b[34m\u001b[1mtrain: \u001b[0mWARNING ⚠️ C:\\Users\\shgan\\WD\\Avito Analytics Academy\\AAA Final project\\env\\YOLO data\\images\\train\\270166.jpg: ignoring corrupt image/label: non-normalized or out of bounds coordinates [     1.0059]\n",
      "\u001b[34m\u001b[1mtrain: \u001b[0mWARNING ⚠️ C:\\Users\\shgan\\WD\\Avito Analytics Academy\\AAA Final project\\env\\YOLO data\\images\\train\\271153.jpg: ignoring corrupt image/label: non-normalized or out of bounds coordinates [     1.0059]\n",
      "\u001b[34m\u001b[1mtrain: \u001b[0mWARNING ⚠️ C:\\Users\\shgan\\WD\\Avito Analytics Academy\\AAA Final project\\env\\YOLO data\\images\\train\\271808.jpg: ignoring corrupt image/label: non-normalized or out of bounds coordinates [     1.0117]\n",
      "\u001b[34m\u001b[1mtrain: \u001b[0mWARNING ⚠️ C:\\Users\\shgan\\WD\\Avito Analytics Academy\\AAA Final project\\env\\YOLO data\\images\\train\\274131.jpg: ignoring corrupt image/label: non-normalized or out of bounds coordinates [     1.0117]\n",
      "\u001b[34m\u001b[1mtrain: \u001b[0mWARNING ⚠️ C:\\Users\\shgan\\WD\\Avito Analytics Academy\\AAA Final project\\env\\YOLO data\\images\\train\\274991.jpg: ignoring corrupt image/label: non-normalized or out of bounds coordinates [     1.0117]\n",
      "\u001b[34m\u001b[1mtrain: \u001b[0mWARNING ⚠️ C:\\Users\\shgan\\WD\\Avito Analytics Academy\\AAA Final project\\env\\YOLO data\\images\\train\\277578.jpg: ignoring corrupt image/label: non-normalized or out of bounds coordinates [      1.016]\n",
      "\u001b[34m\u001b[1mtrain: \u001b[0mWARNING ⚠️ C:\\Users\\shgan\\WD\\Avito Analytics Academy\\AAA Final project\\env\\YOLO data\\images\\train\\280620.jpg: ignoring corrupt image/label: non-normalized or out of bounds coordinates [     1.0117]\n",
      "\u001b[34m\u001b[1mtrain: \u001b[0mWARNING ⚠️ C:\\Users\\shgan\\WD\\Avito Analytics Academy\\AAA Final project\\env\\YOLO data\\images\\train\\280631.jpg: ignoring corrupt image/label: non-normalized or out of bounds coordinates [     1.0117]\n",
      "\u001b[34m\u001b[1mtrain: \u001b[0mWARNING ⚠️ C:\\Users\\shgan\\WD\\Avito Analytics Academy\\AAA Final project\\env\\YOLO data\\images\\train\\28183.jpg: ignoring corrupt image/label: non-normalized or out of bounds coordinates [     1.0217]\n",
      "\u001b[34m\u001b[1mtrain: \u001b[0mWARNING ⚠️ C:\\Users\\shgan\\WD\\Avito Analytics Academy\\AAA Final project\\env\\YOLO data\\images\\train\\285515.jpg: ignoring corrupt image/label: non-normalized or out of bounds coordinates [     1.0035]\n",
      "\u001b[34m\u001b[1mtrain: \u001b[0mWARNING ⚠️ C:\\Users\\shgan\\WD\\Avito Analytics Academy\\AAA Final project\\env\\YOLO data\\images\\train\\287432.jpg: ignoring corrupt image/label: non-normalized or out of bounds coordinates [     1.0117]\n",
      "\u001b[34m\u001b[1mtrain: \u001b[0mWARNING ⚠️ C:\\Users\\shgan\\WD\\Avito Analytics Academy\\AAA Final project\\env\\YOLO data\\images\\train\\287461.jpg: ignoring corrupt image/label: non-normalized or out of bounds coordinates [     1.0113]\n",
      "\u001b[34m\u001b[1mtrain: \u001b[0mWARNING ⚠️ C:\\Users\\shgan\\WD\\Avito Analytics Academy\\AAA Final project\\env\\YOLO data\\images\\train\\288948.jpg: ignoring corrupt image/label: non-normalized or out of bounds coordinates [     1.0117]\n",
      "\u001b[34m\u001b[1mtrain: \u001b[0mWARNING ⚠️ C:\\Users\\shgan\\WD\\Avito Analytics Academy\\AAA Final project\\env\\YOLO data\\images\\train\\289148.jpg: ignoring corrupt image/label: non-normalized or out of bounds coordinates [     1.0146]\n",
      "\u001b[34m\u001b[1mtrain: \u001b[0mWARNING ⚠️ C:\\Users\\shgan\\WD\\Avito Analytics Academy\\AAA Final project\\env\\YOLO data\\images\\train\\289730.jpg: ignoring corrupt image/label: non-normalized or out of bounds coordinates [     1.0117]\n",
      "\u001b[34m\u001b[1mtrain: \u001b[0mWARNING ⚠️ C:\\Users\\shgan\\WD\\Avito Analytics Academy\\AAA Final project\\env\\YOLO data\\images\\train\\289738.jpg: ignoring corrupt image/label: non-normalized or out of bounds coordinates [      1.002]\n",
      "\u001b[34m\u001b[1mtrain: \u001b[0mWARNING ⚠️ C:\\Users\\shgan\\WD\\Avito Analytics Academy\\AAA Final project\\env\\YOLO data\\images\\train\\289742.jpg: ignoring corrupt image/label: non-normalized or out of bounds coordinates [     1.0039]\n",
      "\u001b[34m\u001b[1mtrain: \u001b[0mWARNING ⚠️ C:\\Users\\shgan\\WD\\Avito Analytics Academy\\AAA Final project\\env\\YOLO data\\images\\train\\29030.jpg: ignoring corrupt image/label: non-normalized or out of bounds coordinates [     1.0117]\n",
      "\u001b[34m\u001b[1mtrain: \u001b[0mWARNING ⚠️ C:\\Users\\shgan\\WD\\Avito Analytics Academy\\AAA Final project\\env\\YOLO data\\images\\train\\295992.jpg: ignoring corrupt image/label: non-normalized or out of bounds coordinates [     1.0117]\n",
      "\u001b[34m\u001b[1mtrain: \u001b[0mWARNING ⚠️ C:\\Users\\shgan\\WD\\Avito Analytics Academy\\AAA Final project\\env\\YOLO data\\images\\train\\300668.jpg: ignoring corrupt image/label: non-normalized or out of bounds coordinates [     1.0333]\n",
      "\u001b[34m\u001b[1mtrain: \u001b[0mWARNING ⚠️ C:\\Users\\shgan\\WD\\Avito Analytics Academy\\AAA Final project\\env\\YOLO data\\images\\train\\302998.jpg: ignoring corrupt image/label: non-normalized or out of bounds coordinates [     1.0117]\n",
      "\u001b[34m\u001b[1mtrain: \u001b[0mWARNING ⚠️ C:\\Users\\shgan\\WD\\Avito Analytics Academy\\AAA Final project\\env\\YOLO data\\images\\train\\304090.jpg: ignoring corrupt image/label: non-normalized or out of bounds coordinates [     1.0316]\n",
      "\u001b[34m\u001b[1mtrain: \u001b[0mWARNING ⚠️ C:\\Users\\shgan\\WD\\Avito Analytics Academy\\AAA Final project\\env\\YOLO data\\images\\train\\305118.jpg: ignoring corrupt image/label: non-normalized or out of bounds coordinates [     1.0117]\n",
      "\u001b[34m\u001b[1mtrain: \u001b[0mWARNING ⚠️ C:\\Users\\shgan\\WD\\Avito Analytics Academy\\AAA Final project\\env\\YOLO data\\images\\train\\305731.jpg: ignoring corrupt image/label: non-normalized or out of bounds coordinates [     1.0133]\n",
      "\u001b[34m\u001b[1mtrain: \u001b[0mWARNING ⚠️ C:\\Users\\shgan\\WD\\Avito Analytics Academy\\AAA Final project\\env\\YOLO data\\images\\train\\306616.jpg: ignoring corrupt image/label: non-normalized or out of bounds coordinates [      1.002]\n",
      "\u001b[34m\u001b[1mtrain: \u001b[0mWARNING ⚠️ C:\\Users\\shgan\\WD\\Avito Analytics Academy\\AAA Final project\\env\\YOLO data\\images\\train\\307124.jpg: ignoring corrupt image/label: non-normalized or out of bounds coordinates [     1.0098]\n",
      "\u001b[34m\u001b[1mtrain: \u001b[0mWARNING ⚠️ C:\\Users\\shgan\\WD\\Avito Analytics Academy\\AAA Final project\\env\\YOLO data\\images\\train\\308838.jpg: ignoring corrupt image/label: non-normalized or out of bounds coordinates [     1.0117]\n",
      "\u001b[34m\u001b[1mtrain: \u001b[0mWARNING ⚠️ C:\\Users\\shgan\\WD\\Avito Analytics Academy\\AAA Final project\\env\\YOLO data\\images\\train\\310349.jpg: ignoring corrupt image/label: non-normalized or out of bounds coordinates [      1.002]\n",
      "\u001b[34m\u001b[1mtrain: \u001b[0mWARNING ⚠️ C:\\Users\\shgan\\WD\\Avito Analytics Academy\\AAA Final project\\env\\YOLO data\\images\\train\\312345.jpg: ignoring corrupt image/label: non-normalized or out of bounds coordinates [     1.0137]\n",
      "\u001b[34m\u001b[1mtrain: \u001b[0mWARNING ⚠️ C:\\Users\\shgan\\WD\\Avito Analytics Academy\\AAA Final project\\env\\YOLO data\\images\\train\\312364.jpg: ignoring corrupt image/label: non-normalized or out of bounds coordinates [     1.0117]\n",
      "\u001b[34m\u001b[1mtrain: \u001b[0mWARNING ⚠️ C:\\Users\\shgan\\WD\\Avito Analytics Academy\\AAA Final project\\env\\YOLO data\\images\\train\\312499.jpg: ignoring corrupt image/label: non-normalized or out of bounds coordinates [     1.0117]\n",
      "\u001b[34m\u001b[1mtrain: \u001b[0mWARNING ⚠️ C:\\Users\\shgan\\WD\\Avito Analytics Academy\\AAA Final project\\env\\YOLO data\\images\\train\\314604.jpg: ignoring corrupt image/label: non-normalized or out of bounds coordinates [     1.0127]\n",
      "\u001b[34m\u001b[1mtrain: \u001b[0mWARNING ⚠️ C:\\Users\\shgan\\WD\\Avito Analytics Academy\\AAA Final project\\env\\YOLO data\\images\\train\\314770.jpg: ignoring corrupt image/label: non-normalized or out of bounds coordinates [     1.0117]\n",
      "\u001b[34m\u001b[1mtrain: \u001b[0mWARNING ⚠️ C:\\Users\\shgan\\WD\\Avito Analytics Academy\\AAA Final project\\env\\YOLO data\\images\\train\\316789.jpg: ignoring corrupt image/label: non-normalized or out of bounds coordinates [     1.0111]\n",
      "\u001b[34m\u001b[1mtrain: \u001b[0mWARNING ⚠️ C:\\Users\\shgan\\WD\\Avito Analytics Academy\\AAA Final project\\env\\YOLO data\\images\\train\\317727.jpg: ignoring corrupt image/label: non-normalized or out of bounds coordinates [     1.0536]\n",
      "\u001b[34m\u001b[1mtrain: \u001b[0mWARNING ⚠️ C:\\Users\\shgan\\WD\\Avito Analytics Academy\\AAA Final project\\env\\YOLO data\\images\\train\\317738.jpg: ignoring corrupt image/label: non-normalized or out of bounds coordinates [     1.0117]\n",
      "\u001b[34m\u001b[1mtrain: \u001b[0mWARNING ⚠️ C:\\Users\\shgan\\WD\\Avito Analytics Academy\\AAA Final project\\env\\YOLO data\\images\\train\\321193.jpg: ignoring corrupt image/label: non-normalized or out of bounds coordinates [     1.0117]\n",
      "\u001b[34m\u001b[1mtrain: \u001b[0mWARNING ⚠️ C:\\Users\\shgan\\WD\\Avito Analytics Academy\\AAA Final project\\env\\YOLO data\\images\\train\\32171.jpg: ignoring corrupt image/label: non-normalized or out of bounds coordinates [     1.0117]\n",
      "\u001b[34m\u001b[1mtrain: \u001b[0mWARNING ⚠️ C:\\Users\\shgan\\WD\\Avito Analytics Academy\\AAA Final project\\env\\YOLO data\\images\\train\\323061.jpg: ignoring corrupt image/label: non-normalized or out of bounds coordinates [     1.0078]\n",
      "\u001b[34m\u001b[1mtrain: \u001b[0mWARNING ⚠️ C:\\Users\\shgan\\WD\\Avito Analytics Academy\\AAA Final project\\env\\YOLO data\\images\\train\\323591.jpg: ignoring corrupt image/label: non-normalized or out of bounds coordinates [     1.0217      1.0382]\n",
      "\u001b[34m\u001b[1mtrain: \u001b[0mWARNING ⚠️ C:\\Users\\shgan\\WD\\Avito Analytics Academy\\AAA Final project\\env\\YOLO data\\images\\train\\32395.jpg: ignoring corrupt image/label: non-normalized or out of bounds coordinates [     1.0117]\n",
      "\u001b[34m\u001b[1mtrain: \u001b[0mWARNING ⚠️ C:\\Users\\shgan\\WD\\Avito Analytics Academy\\AAA Final project\\env\\YOLO data\\images\\train\\32460.jpg: ignoring corrupt image/label: non-normalized or out of bounds coordinates [     1.0117]\n",
      "\u001b[34m\u001b[1mtrain: \u001b[0mWARNING ⚠️ C:\\Users\\shgan\\WD\\Avito Analytics Academy\\AAA Final project\\env\\YOLO data\\images\\train\\324904.jpg: ignoring corrupt image/label: non-normalized or out of bounds coordinates [     1.0184]\n",
      "\u001b[34m\u001b[1mtrain: \u001b[0mWARNING ⚠️ C:\\Users\\shgan\\WD\\Avito Analytics Academy\\AAA Final project\\env\\YOLO data\\images\\train\\328643.jpg: ignoring corrupt image/label: non-normalized or out of bounds coordinates [     1.0146]\n",
      "\u001b[34m\u001b[1mtrain: \u001b[0mWARNING ⚠️ C:\\Users\\shgan\\WD\\Avito Analytics Academy\\AAA Final project\\env\\YOLO data\\images\\train\\330490.jpg: ignoring corrupt image/label: non-normalized or out of bounds coordinates [     1.0078]\n",
      "\u001b[34m\u001b[1mtrain: \u001b[0mWARNING ⚠️ C:\\Users\\shgan\\WD\\Avito Analytics Academy\\AAA Final project\\env\\YOLO data\\images\\train\\334734.jpg: ignoring corrupt image/label: non-normalized or out of bounds coordinates [     1.0117]\n",
      "\u001b[34m\u001b[1mtrain: \u001b[0mWARNING ⚠️ C:\\Users\\shgan\\WD\\Avito Analytics Academy\\AAA Final project\\env\\YOLO data\\images\\train\\336676.jpg: ignoring corrupt image/label: non-normalized or out of bounds coordinates [     1.0117]\n",
      "\u001b[34m\u001b[1mtrain: \u001b[0mWARNING ⚠️ C:\\Users\\shgan\\WD\\Avito Analytics Academy\\AAA Final project\\env\\YOLO data\\images\\train\\337383.jpg: ignoring corrupt image/label: non-normalized or out of bounds coordinates [     1.0117]\n",
      "\u001b[34m\u001b[1mtrain: \u001b[0mWARNING ⚠️ C:\\Users\\shgan\\WD\\Avito Analytics Academy\\AAA Final project\\env\\YOLO data\\images\\train\\338839.jpg: ignoring corrupt image/label: non-normalized or out of bounds coordinates [     1.0117]\n",
      "\u001b[34m\u001b[1mtrain: \u001b[0mWARNING ⚠️ C:\\Users\\shgan\\WD\\Avito Analytics Academy\\AAA Final project\\env\\YOLO data\\images\\train\\346112.jpg: ignoring corrupt image/label: non-normalized or out of bounds coordinates [     1.0015]\n",
      "\u001b[34m\u001b[1mtrain: \u001b[0mWARNING ⚠️ C:\\Users\\shgan\\WD\\Avito Analytics Academy\\AAA Final project\\env\\YOLO data\\images\\train\\346788.jpg: ignoring corrupt image/label: non-normalized or out of bounds coordinates [     1.0117]\n",
      "\u001b[34m\u001b[1mtrain: \u001b[0mWARNING ⚠️ C:\\Users\\shgan\\WD\\Avito Analytics Academy\\AAA Final project\\env\\YOLO data\\images\\train\\347805.jpg: ignoring corrupt image/label: non-normalized or out of bounds coordinates [     1.0039]\n",
      "\u001b[34m\u001b[1mtrain: \u001b[0mWARNING ⚠️ C:\\Users\\shgan\\WD\\Avito Analytics Academy\\AAA Final project\\env\\YOLO data\\images\\train\\348395.jpg: ignoring corrupt image/label: non-normalized or out of bounds coordinates [     1.0117]\n",
      "\u001b[34m\u001b[1mtrain: \u001b[0mWARNING ⚠️ C:\\Users\\shgan\\WD\\Avito Analytics Academy\\AAA Final project\\env\\YOLO data\\images\\train\\348700.jpg: ignoring corrupt image/label: non-normalized or out of bounds coordinates [     1.0117]\n",
      "\u001b[34m\u001b[1mtrain: \u001b[0mWARNING ⚠️ C:\\Users\\shgan\\WD\\Avito Analytics Academy\\AAA Final project\\env\\YOLO data\\images\\train\\350823.jpg: ignoring corrupt image/label: non-normalized or out of bounds coordinates [     1.0117]\n",
      "\u001b[34m\u001b[1mtrain: \u001b[0mWARNING ⚠️ C:\\Users\\shgan\\WD\\Avito Analytics Academy\\AAA Final project\\env\\YOLO data\\images\\train\\351020.jpg: ignoring corrupt image/label: non-normalized or out of bounds coordinates [     1.0167]\n",
      "\u001b[34m\u001b[1mtrain: \u001b[0mWARNING ⚠️ C:\\Users\\shgan\\WD\\Avito Analytics Academy\\AAA Final project\\env\\YOLO data\\images\\train\\351453.jpg: ignoring corrupt image/label: non-normalized or out of bounds coordinates [     1.0262]\n",
      "\u001b[34m\u001b[1mtrain: \u001b[0mWARNING ⚠️ C:\\Users\\shgan\\WD\\Avito Analytics Academy\\AAA Final project\\env\\YOLO data\\images\\train\\351901.jpg: ignoring corrupt image/label: non-normalized or out of bounds coordinates [     1.0098]\n",
      "\u001b[34m\u001b[1mtrain: \u001b[0mWARNING ⚠️ C:\\Users\\shgan\\WD\\Avito Analytics Academy\\AAA Final project\\env\\YOLO data\\images\\train\\352053.jpg: ignoring corrupt image/label: non-normalized or out of bounds coordinates [     1.0067]\n",
      "\u001b[34m\u001b[1mtrain: \u001b[0mWARNING ⚠️ C:\\Users\\shgan\\WD\\Avito Analytics Academy\\AAA Final project\\env\\YOLO data\\images\\train\\352445.jpg: ignoring corrupt image/label: non-normalized or out of bounds coordinates [     1.0117]\n",
      "\u001b[34m\u001b[1mtrain: \u001b[0mWARNING ⚠️ C:\\Users\\shgan\\WD\\Avito Analytics Academy\\AAA Final project\\env\\YOLO data\\images\\train\\352990.jpg: ignoring corrupt image/label: non-normalized or out of bounds coordinates [     1.0117]\n",
      "\u001b[34m\u001b[1mtrain: \u001b[0mWARNING ⚠️ C:\\Users\\shgan\\WD\\Avito Analytics Academy\\AAA Final project\\env\\YOLO data\\images\\train\\355247.jpg: ignoring corrupt image/label: non-normalized or out of bounds coordinates [     1.0234]\n",
      "\u001b[34m\u001b[1mtrain: \u001b[0mWARNING ⚠️ C:\\Users\\shgan\\WD\\Avito Analytics Academy\\AAA Final project\\env\\YOLO data\\images\\train\\355403.jpg: ignoring corrupt image/label: non-normalized or out of bounds coordinates [     1.0117]\n",
      "\u001b[34m\u001b[1mtrain: \u001b[0mWARNING ⚠️ C:\\Users\\shgan\\WD\\Avito Analytics Academy\\AAA Final project\\env\\YOLO data\\images\\train\\358163.jpg: ignoring corrupt image/label: non-normalized or out of bounds coordinates [     1.0067]\n",
      "\u001b[34m\u001b[1mtrain: \u001b[0mWARNING ⚠️ C:\\Users\\shgan\\WD\\Avito Analytics Academy\\AAA Final project\\env\\YOLO data\\images\\train\\363346.jpg: ignoring corrupt image/label: non-normalized or out of bounds coordinates [     1.0098]\n",
      "\u001b[34m\u001b[1mtrain: \u001b[0mWARNING ⚠️ C:\\Users\\shgan\\WD\\Avito Analytics Academy\\AAA Final project\\env\\YOLO data\\images\\train\\3640.jpg: ignoring corrupt image/label: non-normalized or out of bounds coordinates [     1.0571]\n",
      "\u001b[34m\u001b[1mtrain: \u001b[0mWARNING ⚠️ C:\\Users\\shgan\\WD\\Avito Analytics Academy\\AAA Final project\\env\\YOLO data\\images\\train\\36756.jpg: ignoring corrupt image/label: non-normalized or out of bounds coordinates [     1.0265]\n",
      "\u001b[34m\u001b[1mtrain: \u001b[0mWARNING ⚠️ C:\\Users\\shgan\\WD\\Avito Analytics Academy\\AAA Final project\\env\\YOLO data\\images\\train\\368266.jpg: ignoring corrupt image/label: non-normalized or out of bounds coordinates [      1.002]\n"
     ]
    },
    {
     "name": "stderr",
     "output_type": "stream",
     "text": [
      "\n"
     ]
    },
    {
     "name": "stdout",
     "output_type": "stream",
     "text": [
      "\u001b[34m\u001b[1mtrain: \u001b[0mNew cache created: C:\\Users\\shgan\\WD\\Avito Analytics Academy\\AAA Final project\\env\\YOLO data\\labels\\train.cache\n"
     ]
    },
    {
     "name": "stderr",
     "output_type": "stream",
     "text": [
      "C:\\Users\\shgan\\anaconda3\\Lib\\site-packages\\paramiko\\transport.py:219: CryptographyDeprecationWarning: Blowfish has been deprecated\n",
      "  \"class\": algorithms.Blowfish,\n"
     ]
    },
    {
     "name": "stdout",
     "output_type": "stream",
     "text": [
      "\u001b[34m\u001b[1malbumentations: \u001b[0mBlur(p=0.01, blur_limit=(3, 7)), MedianBlur(p=0.01, blur_limit=(3, 7)), ToGray(p=0.01), CLAHE(p=0.01, clip_limit=(1, 4.0), tile_grid_size=(8, 8))\n"
     ]
    },
    {
     "name": "stderr",
     "output_type": "stream",
     "text": [
      "\u001b[34m\u001b[1mval: \u001b[0mScanning C:\\Users\\shgan\\WD\\Avito Analytics Academy\\AAA Final project\\env\\YOLO data\\labels\\val... 2463 images, 0 ba\u001b[0m"
     ]
    },
    {
     "name": "stdout",
     "output_type": "stream",
     "text": [
      "\u001b[34m\u001b[1mval: \u001b[0mWARNING ⚠️ C:\\Users\\shgan\\WD\\Avito Analytics Academy\\AAA Final project\\env\\YOLO data\\images\\val\\10121.jpg: ignoring corrupt image/label: non-normalized or out of bounds coordinates [     1.0117]\n",
      "\u001b[34m\u001b[1mval: \u001b[0mWARNING ⚠️ C:\\Users\\shgan\\WD\\Avito Analytics Academy\\AAA Final project\\env\\YOLO data\\images\\val\\103013.jpg: ignoring corrupt image/label: non-normalized or out of bounds coordinates [     1.0117]\n",
      "\u001b[34m\u001b[1mval: \u001b[0mWARNING ⚠️ C:\\Users\\shgan\\WD\\Avito Analytics Academy\\AAA Final project\\env\\YOLO data\\images\\val\\10389.jpg: ignoring corrupt image/label: non-normalized or out of bounds coordinates [     1.0218]\n",
      "\u001b[34m\u001b[1mval: \u001b[0mWARNING ⚠️ C:\\Users\\shgan\\WD\\Avito Analytics Academy\\AAA Final project\\env\\YOLO data\\images\\val\\104500.jpg: ignoring corrupt image/label: non-normalized or out of bounds coordinates [     1.0179]\n",
      "\u001b[34m\u001b[1mval: \u001b[0mWARNING ⚠️ C:\\Users\\shgan\\WD\\Avito Analytics Academy\\AAA Final project\\env\\YOLO data\\images\\val\\105462.jpg: ignoring corrupt image/label: non-normalized or out of bounds coordinates [       1.04]\n",
      "\u001b[34m\u001b[1mval: \u001b[0mWARNING ⚠️ C:\\Users\\shgan\\WD\\Avito Analytics Academy\\AAA Final project\\env\\YOLO data\\images\\val\\107039.jpg: ignoring corrupt image/label: non-normalized or out of bounds coordinates [     1.0117]\n",
      "\u001b[34m\u001b[1mval: \u001b[0mWARNING ⚠️ C:\\Users\\shgan\\WD\\Avito Analytics Academy\\AAA Final project\\env\\YOLO data\\images\\val\\10733.jpg: ignoring corrupt image/label: non-normalized or out of bounds coordinates [     1.0385]\n",
      "\u001b[34m\u001b[1mval: \u001b[0mWARNING ⚠️ C:\\Users\\shgan\\WD\\Avito Analytics Academy\\AAA Final project\\env\\YOLO data\\images\\val\\109720.jpg: ignoring corrupt image/label: non-normalized or out of bounds coordinates [     1.0078]\n",
      "\u001b[34m\u001b[1mval: \u001b[0mWARNING ⚠️ C:\\Users\\shgan\\WD\\Avito Analytics Academy\\AAA Final project\\env\\YOLO data\\images\\val\\110660.jpg: ignoring corrupt image/label: non-normalized or out of bounds coordinates [     1.0381]\n",
      "\u001b[34m\u001b[1mval: \u001b[0mWARNING ⚠️ C:\\Users\\shgan\\WD\\Avito Analytics Academy\\AAA Final project\\env\\YOLO data\\images\\val\\111356.jpg: ignoring corrupt image/label: non-normalized or out of bounds coordinates [     1.0098]\n",
      "\u001b[34m\u001b[1mval: \u001b[0mWARNING ⚠️ C:\\Users\\shgan\\WD\\Avito Analytics Academy\\AAA Final project\\env\\YOLO data\\images\\val\\111618.jpg: ignoring corrupt image/label: non-normalized or out of bounds coordinates [     1.0226]\n",
      "\u001b[34m\u001b[1mval: \u001b[0mWARNING ⚠️ C:\\Users\\shgan\\WD\\Avito Analytics Academy\\AAA Final project\\env\\YOLO data\\images\\val\\111973.jpg: ignoring corrupt image/label: non-normalized or out of bounds coordinates [     1.0117]\n",
      "\u001b[34m\u001b[1mval: \u001b[0mWARNING ⚠️ C:\\Users\\shgan\\WD\\Avito Analytics Academy\\AAA Final project\\env\\YOLO data\\images\\val\\113727.jpg: ignoring corrupt image/label: non-normalized or out of bounds coordinates [     1.0117]\n",
      "\u001b[34m\u001b[1mval: \u001b[0mWARNING ⚠️ C:\\Users\\shgan\\WD\\Avito Analytics Academy\\AAA Final project\\env\\YOLO data\\images\\val\\114476.jpg: ignoring corrupt image/label: non-normalized or out of bounds coordinates [     1.0117]\n",
      "\u001b[34m\u001b[1mval: \u001b[0mWARNING ⚠️ C:\\Users\\shgan\\WD\\Avito Analytics Academy\\AAA Final project\\env\\YOLO data\\images\\val\\115206.jpg: ignoring corrupt image/label: non-normalized or out of bounds coordinates [     1.0392]\n",
      "\u001b[34m\u001b[1mval: \u001b[0mWARNING ⚠️ C:\\Users\\shgan\\WD\\Avito Analytics Academy\\AAA Final project\\env\\YOLO data\\images\\val\\116474.jpg: ignoring corrupt image/label: non-normalized or out of bounds coordinates [     1.0177]\n",
      "\u001b[34m\u001b[1mval: \u001b[0mWARNING ⚠️ C:\\Users\\shgan\\WD\\Avito Analytics Academy\\AAA Final project\\env\\YOLO data\\images\\val\\117166.jpg: ignoring corrupt image/label: non-normalized or out of bounds coordinates [     1.0117]\n",
      "\u001b[34m\u001b[1mval: \u001b[0mWARNING ⚠️ C:\\Users\\shgan\\WD\\Avito Analytics Academy\\AAA Final project\\env\\YOLO data\\images\\val\\117305.jpg: ignoring corrupt image/label: non-normalized or out of bounds coordinates [     1.0141]\n",
      "\u001b[34m\u001b[1mval: \u001b[0mWARNING ⚠️ C:\\Users\\shgan\\WD\\Avito Analytics Academy\\AAA Final project\\env\\YOLO data\\images\\val\\120284.jpg: ignoring corrupt image/label: non-normalized or out of bounds coordinates [     1.0167]\n",
      "\u001b[34m\u001b[1mval: \u001b[0mWARNING ⚠️ C:\\Users\\shgan\\WD\\Avito Analytics Academy\\AAA Final project\\env\\YOLO data\\images\\val\\12256.jpg: ignoring corrupt image/label: non-normalized or out of bounds coordinates [       1.02]\n",
      "\u001b[34m\u001b[1mval: \u001b[0mWARNING ⚠️ C:\\Users\\shgan\\WD\\Avito Analytics Academy\\AAA Final project\\env\\YOLO data\\images\\val\\123539.jpg: ignoring corrupt image/label: non-normalized or out of bounds coordinates [     1.0117]\n"
     ]
    },
    {
     "name": "stderr",
     "output_type": "stream",
     "text": [
      "\n"
     ]
    },
    {
     "name": "stdout",
     "output_type": "stream",
     "text": [
      "\u001b[34m\u001b[1mval: \u001b[0mNew cache created: C:\\Users\\shgan\\WD\\Avito Analytics Academy\\AAA Final project\\env\\YOLO data\\labels\\val.cache\n",
      "Plotting labels to runs\\detect\\train\\labels.jpg... \n",
      "\u001b[34m\u001b[1moptimizer:\u001b[0m 'optimizer=auto' found, ignoring 'lr0=0.01' and 'momentum=0.937' and determining best 'optimizer', 'lr0' and 'momentum' automatically... \n",
      "\u001b[34m\u001b[1moptimizer:\u001b[0m AdamW(lr=0.001111, momentum=0.9) with parameter groups 57 weight(decay=0.0), 64 weight(decay=0.0005), 63 bias(decay=0.0)\n",
      "\u001b[34m\u001b[1mTensorBoard: \u001b[0mmodel graph visualization added ✅\n",
      "Image sizes 640 train, 640 val\n",
      "Using 8 dataloader workers\n",
      "Logging results to \u001b[1mruns\\detect\\train\u001b[0m\n",
      "Starting training for 15 epochs...\n",
      "\n",
      "      Epoch    GPU_mem   box_loss   cls_loss   dfl_loss  Instances       Size\n"
     ]
    },
    {
     "name": "stderr",
     "output_type": "stream",
     "text": [
      "       1/15      4.36G      2.407      3.199      3.059         28        640: 100%|██████████| 1433/1433 [03:37<00:00,\n",
      "                 Class     Images  Instances      Box(P          R      mAP50  mAP50-95): 100%|██████████| 77/77 [00:12"
     ]
    },
    {
     "name": "stdout",
     "output_type": "stream",
     "text": [
      "                   all       2442       2442      0.779      0.662       0.74      0.345\n"
     ]
    },
    {
     "name": "stderr",
     "output_type": "stream",
     "text": [
      "\n"
     ]
    },
    {
     "name": "stdout",
     "output_type": "stream",
     "text": [
      "\n",
      "      Epoch    GPU_mem   box_loss   cls_loss   dfl_loss  Instances       Size\n"
     ]
    },
    {
     "name": "stderr",
     "output_type": "stream",
     "text": [
      "       2/15      4.47G      1.535       1.72      2.057         21        640: 100%|██████████| 1433/1433 [03:38<00:00,\n",
      "                 Class     Images  Instances      Box(P          R      mAP50  mAP50-95): 100%|██████████| 77/77 [00:11"
     ]
    },
    {
     "name": "stdout",
     "output_type": "stream",
     "text": [
      "                   all       2442       2442      0.944      0.829        0.9      0.545\n"
     ]
    },
    {
     "name": "stderr",
     "output_type": "stream",
     "text": [
      "\n"
     ]
    },
    {
     "name": "stdout",
     "output_type": "stream",
     "text": [
      "\n",
      "      Epoch    GPU_mem   box_loss   cls_loss   dfl_loss  Instances       Size\n"
     ]
    },
    {
     "name": "stderr",
     "output_type": "stream",
     "text": [
      "       3/15      4.48G      1.297       1.37      1.782         28        640: 100%|██████████| 1433/1433 [03:41<00:00,\n",
      "                 Class     Images  Instances      Box(P          R      mAP50  mAP50-95): 100%|██████████| 77/77 [00:11"
     ]
    },
    {
     "name": "stdout",
     "output_type": "stream",
     "text": [
      "                   all       2442       2442      0.956      0.879      0.932      0.629\n"
     ]
    },
    {
     "name": "stderr",
     "output_type": "stream",
     "text": [
      "\n"
     ]
    },
    {
     "name": "stdout",
     "output_type": "stream",
     "text": [
      "\n",
      "      Epoch    GPU_mem   box_loss   cls_loss   dfl_loss  Instances       Size\n"
     ]
    },
    {
     "name": "stderr",
     "output_type": "stream",
     "text": [
      "       4/15       4.5G      1.142      1.168       1.62         19        640: 100%|██████████| 1433/1433 [03:39<00:00,\n",
      "                 Class     Images  Instances      Box(P          R      mAP50  mAP50-95): 100%|██████████| 77/77 [00:11\n"
     ]
    },
    {
     "name": "stdout",
     "output_type": "stream",
     "text": [
      "                   all       2442       2442      0.972      0.892      0.946      0.681\n",
      "\n",
      "      Epoch    GPU_mem   box_loss   cls_loss   dfl_loss  Instances       Size\n"
     ]
    },
    {
     "name": "stderr",
     "output_type": "stream",
     "text": [
      "       5/15      4.48G      1.042      1.056      1.507         27        640: 100%|██████████| 1433/1433 [03:40<00:00,\n",
      "                 Class     Images  Instances      Box(P          R      mAP50  mAP50-95): 100%|██████████| 77/77 [00:11"
     ]
    },
    {
     "name": "stdout",
     "output_type": "stream",
     "text": [
      "                   all       2442       2442      0.978      0.906      0.956      0.728\n"
     ]
    },
    {
     "name": "stderr",
     "output_type": "stream",
     "text": [
      "\n"
     ]
    },
    {
     "name": "stdout",
     "output_type": "stream",
     "text": [
      "Closing dataloader mosaic\n",
      "\u001b[34m\u001b[1malbumentations: \u001b[0mBlur(p=0.01, blur_limit=(3, 7)), MedianBlur(p=0.01, blur_limit=(3, 7)), ToGray(p=0.01), CLAHE(p=0.01, clip_limit=(1, 4.0), tile_grid_size=(8, 8))\n",
      "\n",
      "      Epoch    GPU_mem   box_loss   cls_loss   dfl_loss  Instances       Size\n"
     ]
    },
    {
     "name": "stderr",
     "output_type": "stream",
     "text": [
      "       6/15      4.49G      0.796     0.6765      1.304         12        640: 100%|██████████| 1433/1433 [03:35<00:00,\n",
      "                 Class     Images  Instances      Box(P          R      mAP50  mAP50-95): 100%|██████████| 77/77 [00:11\n"
     ]
    },
    {
     "name": "stdout",
     "output_type": "stream",
     "text": [
      "                   all       2442       2442      0.987      0.922      0.965      0.755\n",
      "\n",
      "      Epoch    GPU_mem   box_loss   cls_loss   dfl_loss  Instances       Size\n"
     ]
    },
    {
     "name": "stderr",
     "output_type": "stream",
     "text": [
      "       7/15      4.49G     0.7289     0.6124      1.239         12        640: 100%|██████████| 1433/1433 [03:40<00:00,\n",
      "                 Class     Images  Instances      Box(P          R      mAP50  mAP50-95): 100%|██████████| 77/77 [00:11"
     ]
    },
    {
     "name": "stdout",
     "output_type": "stream",
     "text": [
      "                   all       2442       2442      0.984      0.931      0.969      0.798\n"
     ]
    },
    {
     "name": "stderr",
     "output_type": "stream",
     "text": [
      "\n"
     ]
    },
    {
     "name": "stdout",
     "output_type": "stream",
     "text": [
      "\n",
      "      Epoch    GPU_mem   box_loss   cls_loss   dfl_loss  Instances       Size\n"
     ]
    },
    {
     "name": "stderr",
     "output_type": "stream",
     "text": [
      "       8/15      4.48G     0.6727      0.561       1.18         12        640: 100%|██████████| 1433/1433 [03:41<00:00,\n",
      "                 Class     Images  Instances      Box(P          R      mAP50  mAP50-95): 100%|██████████| 77/77 [00:12"
     ]
    },
    {
     "name": "stdout",
     "output_type": "stream",
     "text": [
      "                   all       2442       2442      0.988      0.929      0.974      0.822\n"
     ]
    },
    {
     "name": "stderr",
     "output_type": "stream",
     "text": [
      "\n"
     ]
    },
    {
     "name": "stdout",
     "output_type": "stream",
     "text": [
      "\n",
      "      Epoch    GPU_mem   box_loss   cls_loss   dfl_loss  Instances       Size\n"
     ]
    },
    {
     "name": "stderr",
     "output_type": "stream",
     "text": [
      "       9/15       4.5G     0.6349     0.5297      1.145         12        640: 100%|██████████| 1433/1433 [03:39<00:00,\n",
      "                 Class     Images  Instances      Box(P          R      mAP50  mAP50-95): 100%|██████████| 77/77 [00:11"
     ]
    },
    {
     "name": "stdout",
     "output_type": "stream",
     "text": [
      "                   all       2442       2442      0.986      0.946      0.976      0.844\n"
     ]
    },
    {
     "name": "stderr",
     "output_type": "stream",
     "text": [
      "\n"
     ]
    },
    {
     "name": "stdout",
     "output_type": "stream",
     "text": [
      "\n",
      "      Epoch    GPU_mem   box_loss   cls_loss   dfl_loss  Instances       Size\n"
     ]
    },
    {
     "name": "stderr",
     "output_type": "stream",
     "text": [
      "      10/15      4.51G     0.5967     0.4887      1.107         10        640: 100%|██████████| 1433/1433 [03:39<00:00,\n",
      "                 Class     Images  Instances      Box(P          R      mAP50  mAP50-95): 100%|██████████| 77/77 [00:11"
     ]
    },
    {
     "name": "stdout",
     "output_type": "stream",
     "text": [
      "                   all       2442       2442      0.982      0.952      0.978      0.859\n"
     ]
    },
    {
     "name": "stderr",
     "output_type": "stream",
     "text": [
      "\n"
     ]
    },
    {
     "name": "stdout",
     "output_type": "stream",
     "text": [
      "\n",
      "      Epoch    GPU_mem   box_loss   cls_loss   dfl_loss  Instances       Size\n"
     ]
    },
    {
     "name": "stderr",
     "output_type": "stream",
     "text": [
      "      11/15      4.35G     0.5626      0.467      1.081         12        640: 100%|██████████| 1433/1433 [03:40<00:00,\n",
      "                 Class     Images  Instances      Box(P          R      mAP50  mAP50-95): 100%|██████████| 77/77 [00:11"
     ]
    },
    {
     "name": "stdout",
     "output_type": "stream",
     "text": [
      "                   all       2442       2442       0.99       0.95       0.98      0.883\n"
     ]
    },
    {
     "name": "stderr",
     "output_type": "stream",
     "text": [
      "\n"
     ]
    },
    {
     "name": "stdout",
     "output_type": "stream",
     "text": [
      "\n",
      "      Epoch    GPU_mem   box_loss   cls_loss   dfl_loss  Instances       Size\n"
     ]
    },
    {
     "name": "stderr",
     "output_type": "stream",
     "text": [
      "      12/15       4.5G     0.5328     0.4386      1.051         12        640: 100%|██████████| 1433/1433 [03:41<00:00,\n",
      "                 Class     Images  Instances      Box(P          R      mAP50  mAP50-95): 100%|██████████| 77/77 [00:11"
     ]
    },
    {
     "name": "stdout",
     "output_type": "stream",
     "text": [
      "                   all       2442       2442      0.992      0.952      0.982      0.876\n"
     ]
    },
    {
     "name": "stderr",
     "output_type": "stream",
     "text": [
      "\n"
     ]
    },
    {
     "name": "stdout",
     "output_type": "stream",
     "text": [
      "\n",
      "      Epoch    GPU_mem   box_loss   cls_loss   dfl_loss  Instances       Size\n"
     ]
    },
    {
     "name": "stderr",
     "output_type": "stream",
     "text": [
      "      13/15      4.34G     0.5038     0.4146       1.03         12        640: 100%|██████████| 1433/1433 [03:42<00:00,\n",
      "                 Class     Images  Instances      Box(P          R      mAP50  mAP50-95): 100%|██████████| 77/77 [00:12"
     ]
    },
    {
     "name": "stdout",
     "output_type": "stream",
     "text": [
      "                   all       2442       2442      0.989      0.958      0.983      0.883\n"
     ]
    },
    {
     "name": "stderr",
     "output_type": "stream",
     "text": [
      "\n"
     ]
    },
    {
     "name": "stdout",
     "output_type": "stream",
     "text": [
      "\n",
      "      Epoch    GPU_mem   box_loss   cls_loss   dfl_loss  Instances       Size\n"
     ]
    },
    {
     "name": "stderr",
     "output_type": "stream",
     "text": [
      "      14/15      4.51G     0.4751     0.3894      1.009         12        640: 100%|██████████| 1433/1433 [03:34<00:00,\n",
      "                 Class     Images  Instances      Box(P          R      mAP50  mAP50-95): 100%|██████████| 77/77 [00:11"
     ]
    },
    {
     "name": "stdout",
     "output_type": "stream",
     "text": [
      "                   all       2442       2442      0.994      0.956      0.983      0.887\n"
     ]
    },
    {
     "name": "stderr",
     "output_type": "stream",
     "text": [
      "\n"
     ]
    },
    {
     "name": "stdout",
     "output_type": "stream",
     "text": [
      "\n",
      "      Epoch    GPU_mem   box_loss   cls_loss   dfl_loss  Instances       Size\n"
     ]
    },
    {
     "name": "stderr",
     "output_type": "stream",
     "text": [
      "      15/15      4.33G     0.4481     0.3712     0.9883         12        640: 100%|██████████| 1433/1433 [03:31<00:00,\n",
      "                 Class     Images  Instances      Box(P          R      mAP50  mAP50-95): 100%|██████████| 77/77 [00:11"
     ]
    },
    {
     "name": "stdout",
     "output_type": "stream",
     "text": [
      "                   all       2442       2442      0.992      0.964      0.983      0.902\n"
     ]
    },
    {
     "name": "stderr",
     "output_type": "stream",
     "text": [
      "\n"
     ]
    },
    {
     "name": "stdout",
     "output_type": "stream",
     "text": [
      "\n",
      "15 epochs completed in 0.975 hours.\n",
      "Optimizer stripped from runs\\detect\\train\\weights\\last.pt, 22.5MB\n",
      "Optimizer stripped from runs\\detect\\train\\weights\\best.pt, 22.5MB\n",
      "\n",
      "Validating runs\\detect\\train\\weights\\best.pt...\n",
      "Ultralytics YOLOv8.1.27 🚀 Python-3.11.5 torch-2.1.2+cu118 CUDA:0 (NVIDIA GeForce RTX 3080 Ti Laptop GPU, 16384MiB)\n",
      "YOLOv8s summary (fused): 168 layers, 11127519 parameters, 0 gradients, 28.4 GFLOPs\n"
     ]
    },
    {
     "name": "stderr",
     "output_type": "stream",
     "text": [
      "                 Class     Images  Instances      Box(P          R      mAP50  mAP50-95): 100%|██████████| 77/77 [00:11\n"
     ]
    },
    {
     "name": "stdout",
     "output_type": "stream",
     "text": [
      "                   all       2442       2442      0.992      0.964      0.983      0.903\n",
      "                  cian       2442        544      0.992      0.935      0.969      0.868\n",
      "                    hh       2442        559      0.993      0.989      0.995      0.971\n",
      "              domclick       2442        554      0.996      0.976      0.986      0.942\n",
      "                autoru       2442        354      0.987      0.958      0.973      0.844\n",
      "                  drom       2442        431       0.99      0.961      0.993       0.89\n",
      "Speed: 0.1ms preprocess, 1.8ms inference, 0.0ms loss, 0.7ms postprocess per image\n",
      "Results saved to \u001b[1mruns\\detect\\train\u001b[0m\n"
     ]
    },
    {
     "data": {
      "application/vnd.jupyter.widget-view+json": {
       "model_id": "",
       "version_major": 2,
       "version_minor": 0
      },
      "text/plain": [
       "VBox(children=(Label(value='27.660 MB of 27.660 MB uploaded\\r'), FloatProgress(value=1.0, max=1.0)))"
      ]
     },
     "metadata": {},
     "output_type": "display_data"
    },
    {
     "data": {
      "text/html": [
       "<style>\n",
       "    table.wandb td:nth-child(1) { padding: 0 10px; text-align: left ; width: auto;} td:nth-child(2) {text-align: left ; width: 100%}\n",
       "    .wandb-row { display: flex; flex-direction: row; flex-wrap: wrap; justify-content: flex-start; width: 100% }\n",
       "    .wandb-col { display: flex; flex-direction: column; flex-basis: 100%; flex: 1; padding: 10px; }\n",
       "    </style>\n",
       "<div class=\"wandb-row\"><div class=\"wandb-col\"><h3>Run history:</h3><br/><table class=\"wandb\"><tr><td>lr/pg0</td><td>▃▆█▇▇▇▆▅▅▄▄▃▂▂▁</td></tr><tr><td>lr/pg1</td><td>▃▆█▇▇▇▆▅▅▄▄▃▂▂▁</td></tr><tr><td>lr/pg2</td><td>▃▆█▇▇▇▆▅▅▄▄▃▂▂▁</td></tr><tr><td>metrics/mAP50(B)</td><td>▁▆▇▇▇▇█████████</td></tr><tr><td>metrics/mAP50-95(B)</td><td>▁▄▅▅▆▆▇▇▇▇█████</td></tr><tr><td>metrics/precision(B)</td><td>▁▆▇▇▇██████████</td></tr><tr><td>metrics/recall(B)</td><td>▁▅▆▆▇▇▇▇███████</td></tr><tr><td>model/GFLOPs</td><td>▁</td></tr><tr><td>model/parameters</td><td>▁</td></tr><tr><td>model/speed_PyTorch(ms)</td><td>▁</td></tr><tr><td>train/box_loss</td><td>█▅▄▃▃▂▂▂▂▂▁▁▁▁▁</td></tr><tr><td>train/cls_loss</td><td>█▄▃▃▃▂▂▁▁▁▁▁▁▁▁</td></tr><tr><td>train/dfl_loss</td><td>█▅▄▃▃▂▂▂▂▁▁▁▁▁▁</td></tr><tr><td>val/box_loss</td><td>█▆▅▄▃▃▂▂▂▂▁▁▁▁▁</td></tr><tr><td>val/cls_loss</td><td>█▅▄▃▃▂▂▂▂▁▁▁▁▁▁</td></tr><tr><td>val/dfl_loss</td><td>█▅▄▃▃▃▂▂▂▁▁▁▁▁▁</td></tr></table><br/></div><div class=\"wandb-col\"><h3>Run summary:</h3><br/><table class=\"wandb\"><tr><td>lr/pg0</td><td>0.00016</td></tr><tr><td>lr/pg1</td><td>0.00016</td></tr><tr><td>lr/pg2</td><td>0.00016</td></tr><tr><td>metrics/mAP50(B)</td><td>0.98323</td></tr><tr><td>metrics/mAP50-95(B)</td><td>0.90319</td></tr><tr><td>metrics/precision(B)</td><td>0.99166</td></tr><tr><td>metrics/recall(B)</td><td>0.9637</td></tr><tr><td>model/GFLOPs</td><td>28.656</td></tr><tr><td>model/parameters</td><td>11137535</td></tr><tr><td>model/speed_PyTorch(ms)</td><td>2.464</td></tr><tr><td>train/box_loss</td><td>0.44807</td></tr><tr><td>train/cls_loss</td><td>0.37123</td></tr><tr><td>train/dfl_loss</td><td>0.9883</td></tr><tr><td>val/box_loss</td><td>0.39212</td></tr><tr><td>val/cls_loss</td><td>0.2718</td></tr><tr><td>val/dfl_loss</td><td>0.88813</td></tr></table><br/></div></div>"
      ],
      "text/plain": [
       "<IPython.core.display.HTML object>"
      ]
     },
     "metadata": {},
     "output_type": "display_data"
    },
    {
     "data": {
      "text/html": [
       " View run <strong style=\"color:#cdcd00\">train</strong> at: <a href='https://wandb.ai/aganiev1993/YOLOv8/runs/6db5if55' target=\"_blank\">https://wandb.ai/aganiev1993/YOLOv8/runs/6db5if55</a><br/> View project at: <a href='https://wandb.ai/aganiev1993/YOLOv8' target=\"_blank\">https://wandb.ai/aganiev1993/YOLOv8</a><br/>Synced 6 W&B file(s), 24 media file(s), 5 artifact file(s) and 0 other file(s)"
      ],
      "text/plain": [
       "<IPython.core.display.HTML object>"
      ]
     },
     "metadata": {},
     "output_type": "display_data"
    },
    {
     "data": {
      "text/html": [
       "Find logs at: <code>.\\wandb\\run-20240602_190746-6db5if55\\logs</code>"
      ],
      "text/plain": [
       "<IPython.core.display.HTML object>"
      ]
     },
     "metadata": {},
     "output_type": "display_data"
    }
   ],
   "source": [
    "model = YOLO(model='yolov8s.yaml')\n",
    "results = model.train(data='train_file.yaml',               \n",
    "                      degrees = 15,\n",
    "                      translate = 0.12,\n",
    "                      shear = 15,\n",
    "                      perspective = 0.0001/2,\n",
    "                      fliplr=0.12,\n",
    "                      flipud = 0.12,\n",
    "                      mixup=0.12,\n",
    "                      copy_paste = 0.12,\n",
    "                      mosaic=0.85,\n",
    "                      epochs=15)"
   ]
  },
  {
   "cell_type": "markdown",
   "id": "c0f2cb77",
   "metadata": {},
   "source": [
    "## Тестирование "
   ]
  },
  {
   "cell_type": "code",
   "execution_count": 3,
   "id": "19a51c64",
   "metadata": {},
   "outputs": [
    {
     "name": "stdout",
     "output_type": "stream",
     "text": [
      "\n",
      "0: 640x640 1 hh, 14.1ms\n",
      "1: 640x640 1 cian, 1 hh, 14.1ms\n",
      "2: 640x640 1 cian, 14.1ms\n",
      "3: 640x640 1 cian, 1 hh, 14.1ms\n",
      "4: 640x640 (no detections), 14.1ms\n",
      "5: 640x640 1 domclick, 14.1ms\n",
      "6: 640x640 1 cian, 14.1ms\n",
      "7: 640x640 1 domclick, 14.1ms\n",
      "8: 640x640 1 domclick, 14.1ms\n",
      "9: 640x640 1 domclick, 14.1ms\n",
      "10: 640x640 (no detections), 14.1ms\n",
      "11: 640x640 1 domclick, 14.1ms\n",
      "12: 640x640 1 autoru, 14.1ms\n",
      "13: 640x640 1 autoru, 1 drom, 14.1ms\n",
      "14: 640x640 1 cian, 14.1ms\n",
      "15: 640x640 1 cian, 14.1ms\n",
      "16: 640x640 1 hh, 14.1ms\n",
      "17: 640x640 1 hh, 14.1ms\n",
      "18: 640x640 (no detections), 14.1ms\n",
      "19: 640x640 1 hh, 14.1ms\n",
      "20: 640x640 (no detections), 14.1ms\n",
      "21: 640x640 1 cian, 14.1ms\n",
      "22: 640x640 1 cian, 14.1ms\n",
      "23: 640x640 1 cian, 1 domclick, 14.1ms\n",
      "Speed: 3.9ms preprocess, 14.1ms inference, 0.6ms postprocess per image at shape (1, 3, 640, 640)\n",
      "Results saved to \u001b[1mruns\\detect\\train2\u001b[0m\n"
     ]
    }
   ],
   "source": [
    "# Загрузим название тестовых картинок\n",
    "test_image_path = 'Test Images/'\n",
    "test_img_names = [test_image_path + f for f in listdir(test_image_path) if isfile(join(test_image_path, f))]\n",
    "test_results = model(test_img_names, save=True)"
   ]
  },
  {
   "cell_type": "markdown",
   "id": "1dac38c3",
   "metadata": {},
   "source": [
    "## model.py"
   ]
  },
  {
   "cell_type": "code",
   "execution_count": 4,
   "id": "f8b3e500",
   "metadata": {},
   "outputs": [],
   "source": [
    "# # #!/usr/bin/env python\n",
    "# # # -*- coding: utf-8 -*-\n",
    "\n",
    "# import datetime\n",
    "# import cv2\n",
    "# from imutils.video import VideoStream\n",
    "# from ultralytics import YOLO\n",
    "# # import supervision as sv\n",
    "# #from helper import create_video_writer\n",
    "\n",
    "# # define some constants\n",
    "# CONFIDENCE_THRESHOLD = 0.3\n",
    "# GREEN = (0, 255, 0)\n",
    "# image_list = test_img_names\n",
    "\n",
    "# # load the pre-trained YOLOv8n model\n",
    "# model = YOLO(\"./runs/detect/train4/weights/best.pt\") # test trained model\n",
    "\n",
    "# for i,img in enumerate(image_list[2:]):\n",
    "#     #detect on image\n",
    "#     frame= cv2.imread(img)#from image file\n",
    "#     detections = model(frame)[0]\n",
    "    \n",
    "#     # loop over the detections\n",
    "#     for box in detections.boxes:\n",
    "#         #extract the label name\n",
    "#         label = model.names.get(box.cls.item())\n",
    "            \n",
    "#         # extract the confidence (i.e., probability) associated with the detection\n",
    "#         data = box.data.tolist()[0]\n",
    "#         confidence = data[4]\n",
    "        \n",
    "#         # filter out weak detections by ensuring the confidence is greater than the minimum confidence\n",
    "#         if float(confidence) < CONFIDENCE_THRESHOLD:\n",
    "#             continue\n",
    "        \n",
    "#         # if the confidence is greater than the minimum confidence draw the bounding box on the frame\n",
    "#         xmin, ymin, xmax, ymax = int(data[0]), int(data[1]), int(data[2]), int(data[3])\n",
    "#         cv2.rectangle(frame, (xmin, ymin) , (xmax, ymax), GREEN, 2)\n",
    "        \n",
    "#         # draw confidence and label\n",
    "#         y = ymin - 15 if ymin - 15 > 15 else ymin + 15\n",
    "#         cv2.putText(frame, \"{} {:.1f}%\".format(label,float(confidence*100)), (xmin, y), cv2.FONT_HERSHEY_SIMPLEX, 0.5, GREEN, 2)\n",
    "    \n",
    "#     # show the frame to our screen\n",
    "#     cv2.imshow(\"Img{}\".format(i), frame)  \n",
    "#     cv2.waitKey(1)\n",
    "\n",
    "# # while True:\n",
    "# #     if cv2.waitKey(1) == ord(\"q\"):\n",
    "# #         break"
   ]
  },
  {
   "cell_type": "code",
   "execution_count": null,
   "id": "c9eeb178",
   "metadata": {},
   "outputs": [],
   "source": []
  }
 ],
 "metadata": {
  "kernelspec": {
   "display_name": "Python 3 (ipykernel)",
   "language": "python",
   "name": "python3"
  },
  "language_info": {
   "codemirror_mode": {
    "name": "ipython",
    "version": 3
   },
   "file_extension": ".py",
   "mimetype": "text/x-python",
   "name": "python",
   "nbconvert_exporter": "python",
   "pygments_lexer": "ipython3",
   "version": "3.11.5"
  }
 },
 "nbformat": 4,
 "nbformat_minor": 5
}
